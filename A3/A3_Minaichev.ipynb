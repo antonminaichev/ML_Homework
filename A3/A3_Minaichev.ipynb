{
 "cells": [
  {
   "cell_type": "markdown",
   "id": "4e4e07c0",
   "metadata": {},
   "source": [
    "# ДОМАШНЕЕ ЗАДАНИЕ 3. Классификация текстовых документов"
   ]
  },
  {
   "cell_type": "markdown",
   "id": "3a174fb4",
   "metadata": {},
   "source": [
    "## Вариант"
   ]
  },
  {
   "cell_type": "code",
   "execution_count": 1,
   "id": "64b2208b",
   "metadata": {},
   "outputs": [
    {
     "name": "stdout",
     "output_type": "stream",
     "text": [
      "Ваш вариант -  2\n"
     ]
    }
   ],
   "source": [
    "surname = \"Минайчев\" # Ваша фамилия\n",
    "\n",
    "alp = 'абвгдеёжзийклмнопрстуфхцчшщъыьэюя'\n",
    "w = [4, 42, 21, 21, 34,  1, 44, 26, 18, 43, 38, 26, 18, 43,  3, 49, 45,\n",
    "        7, 42, 25,  4,  9, 36, 33, 31, 29,  5, 31,  4, 19, 24, 27, 33]\n",
    "d = dict(zip(alp, w))\n",
    "variant =  sum([d[el] for el in surname.lower()]) % 3 + 1\n",
    "print(\"Ваш вариант - \", variant)"
   ]
  },
  {
   "cell_type": "markdown",
   "id": "69a134f5",
   "metadata": {},
   "source": [
    "Набор SMS сообщений (sms)"
   ]
  },
  {
   "cell_type": "markdown",
   "id": "e680aa18",
   "metadata": {},
   "source": [
    "Импорт библиотек"
   ]
  },
  {
   "cell_type": "code",
   "execution_count": 2,
   "id": "05e244a2",
   "metadata": {},
   "outputs": [],
   "source": [
    "import numpy as np\n",
    "import pandas as pd\n",
    "import matplotlib.pyplot as plt\n",
    "import time\n",
    "from sklearn.metrics import classification_report, confusion_matrix\n",
    "from sklearn.feature_extraction.text import CountVectorizer\n",
    "from sklearn.model_selection import train_test_split\n",
    "from sklearn.feature_extraction.text import TfidfVectorizer\n",
    "from sklearn.neighbors import KNeighborsClassifier\n",
    "from sklearn.linear_model import LogisticRegression\n",
    "from sklearn.naive_bayes import BernoulliNB\n",
    "from sklearn.feature_extraction.text import CountVectorizer\n",
    "from sklearn.naive_bayes import MultinomialNB\n",
    "from sklearn.metrics import balanced_accuracy_score, recall_score, precision_score, f1_score\n",
    "from sklearn.model_selection import KFold\n",
    "from sklearn.model_selection import GridSearchCV\n",
    "from sklearn.pipeline import Pipeline\n",
    "from sklearn.feature_extraction import FeatureHasher\n",
    "from sklearn.feature_extraction.text import HashingVectorizer"
   ]
  },
  {
   "cell_type": "code",
   "execution_count": 3,
   "id": "68a14946",
   "metadata": {},
   "outputs": [],
   "source": [
    "data_path = \"Assignments-master/data/A3_Text_Classification/SMSSpamCollection\""
   ]
  },
  {
   "cell_type": "code",
   "execution_count": 4,
   "id": "ed89625b",
   "metadata": {},
   "outputs": [],
   "source": [
    "random_state = 123"
   ]
  },
  {
   "cell_type": "code",
   "execution_count": 5,
   "id": "46e4964b-34fc-4e15-95b5-944246679a8d",
   "metadata": {},
   "outputs": [],
   "source": [
    "import warnings\n",
    "warnings.filterwarnings('ignore') #убираем предупреждения"
   ]
  },
  {
   "cell_type": "markdown",
   "id": "6d00bcab",
   "metadata": {},
   "source": [
    "## Задание 1. Оценка качества классификации текстовых данных"
   ]
  },
  {
   "cell_type": "markdown",
   "id": "417dc96a",
   "metadata": {},
   "source": [
    "1. Загрузите исходные данные"
   ]
  },
  {
   "cell_type": "code",
   "execution_count": 6,
   "id": "d618b53d",
   "metadata": {},
   "outputs": [],
   "source": [
    "data = open(data_path, encoding=\"utf-8\")\n",
    "sms_lines = data.readlines()"
   ]
  },
  {
   "cell_type": "markdown",
   "id": "ede05150",
   "metadata": {},
   "source": [
    "Создадим два списка - с классами, и самим текстом"
   ]
  },
  {
   "cell_type": "code",
   "execution_count": 7,
   "id": "1c520c08",
   "metadata": {},
   "outputs": [],
   "source": [
    "sms_text = []\n",
    "sms_class = []\n",
    "for line in sms_lines:\n",
    "    if line[:1] == 's':\n",
    "        sms_class.append(line[:4])\n",
    "        sms_text.append(line[5:-1])\n",
    "    else:\n",
    "        sms_class.append(line[:3])\n",
    "        sms_text.append(line[4:-1])"
   ]
  },
  {
   "cell_type": "markdown",
   "id": "7fbedc0a",
   "metadata": {},
   "source": [
    "2. Разбейте загруженные данные на обучающее (train, 80%) и тестовое подмножества (test, 20%)"
   ]
  },
  {
   "cell_type": "code",
   "execution_count": 8,
   "id": "c0a238be",
   "metadata": {},
   "outputs": [],
   "source": [
    "x_train, x_test, y_train, y_test = train_test_split(sms_text, sms_class, test_size=0.2, random_state = random_state)"
   ]
  },
  {
   "cell_type": "markdown",
   "id": "450d3d2b",
   "metadata": {},
   "source": [
    "3. Переведите текстовые данные в векторный вид. Для этого воспользуйтесь средствами sklearn для трансформации текстовых документов в векторы TF-IDF (настроить на обучающем подмножестве, n-gram=1, слова в нижний регистр)."
   ]
  },
  {
   "cell_type": "code",
   "execution_count": 9,
   "id": "1cde4c6a",
   "metadata": {},
   "outputs": [
    {
     "data": {
      "text/plain": [
       "TfidfVectorizer(smooth_idf=False)"
      ]
     },
     "execution_count": 9,
     "metadata": {},
     "output_type": "execute_result"
    }
   ],
   "source": [
    "tfidf_transformer = TfidfVectorizer(lowercase=True, use_idf=True, \n",
    "                                    ngram_range=(1,1), smooth_idf=False)  # параметры как на семинаре + lowercase по условию                      \n",
    "tfidf_transformer"
   ]
  },
  {
   "cell_type": "code",
   "execution_count": 10,
   "id": "7a32b383",
   "metadata": {},
   "outputs": [],
   "source": [
    "tfidf_train_vector = tfidf_transformer.fit_transform(x_train)\n",
    "tfidf_test_vector = tfidf_transformer.transform(x_test)"
   ]
  },
  {
   "cell_type": "markdown",
   "id": "5a60f9be",
   "metadata": {},
   "source": [
    "4. Постройте на обучающем подмножестве следующие модели классификации:\n",
    "    - K-ближайших соседей ($n=5$)\n",
    "    - Логистическая регрессия ($C=1$)\n",
    "    - Наивный Байес: модель Бернулли ($\\alpha=1$)\n",
    "    - Наивный Байес: полиномиальная модель ($\\alpha=1$)"
   ]
  },
  {
   "cell_type": "markdown",
   "id": "d2d7650f",
   "metadata": {},
   "source": [
    "4.1 К-ближайших соседей(KNeighbors)"
   ]
  },
  {
   "cell_type": "code",
   "execution_count": 11,
   "id": "d512acf5",
   "metadata": {},
   "outputs": [
    {
     "data": {
      "text/plain": [
       "KNeighborsClassifier()"
      ]
     },
     "execution_count": 11,
     "metadata": {},
     "output_type": "execute_result"
    }
   ],
   "source": [
    "knc_model = KNeighborsClassifier(n_neighbors=5)\n",
    "knc_model.fit(tfidf_train_vector,y_train)"
   ]
  },
  {
   "cell_type": "markdown",
   "id": "5415bb30",
   "metadata": {},
   "source": [
    "4.2 Логистическая регрессия"
   ]
  },
  {
   "cell_type": "markdown",
   "id": "94723286",
   "metadata": {},
   "source": [
    "В условии изначально написано использовать random_state=123 для всех моделей, для логистической регрессии поздей написано использовать random_state=12345, это учитывать не буду, используем rs = 123"
   ]
  },
  {
   "cell_type": "code",
   "execution_count": 12,
   "id": "369ce1dc",
   "metadata": {},
   "outputs": [
    {
     "data": {
      "text/plain": [
       "LogisticRegression(C=1, random_state=123)"
      ]
     },
     "execution_count": 12,
     "metadata": {},
     "output_type": "execute_result"
    }
   ],
   "source": [
    "logr_model = LogisticRegression(penalty=\"l2\", fit_intercept=True, max_iter=100, C=1,\n",
    "                                solver=\"lbfgs\", random_state=123) # параметры согласно условию\n",
    "logr_model.fit(tfidf_train_vector, y_train)"
   ]
  },
  {
   "cell_type": "markdown",
   "id": "13c0a077",
   "metadata": {},
   "source": [
    "4.3 Наивный Байес: модель Бернулли"
   ]
  },
  {
   "cell_type": "code",
   "execution_count": 13,
   "id": "992dc07c",
   "metadata": {},
   "outputs": [],
   "source": [
    "count_vectorizer = CountVectorizer(analyzer=\"word\", ngram_range=(1,1),\n",
    "                                   lowercase=True, binary=True) # преобразуем вектор в бинарный согласно условию\n",
    "\n",
    "train_binary_vector = count_vectorizer.fit_transform(x_train)\n",
    "test_binary_vector = count_vectorizer.transform(x_test)"
   ]
  },
  {
   "cell_type": "code",
   "execution_count": 14,
   "id": "d03f9792",
   "metadata": {},
   "outputs": [
    {
     "data": {
      "text/plain": [
       "BernoulliNB(alpha=1, binarize=None)"
      ]
     },
     "execution_count": 14,
     "metadata": {},
     "output_type": "execute_result"
    }
   ],
   "source": [
    "bnb_model = BernoulliNB(alpha=1, binarize=None) #binarize = none, т.к вектор уже бинарный\n",
    "bnb_model.fit(train_binary_vector, y_train)"
   ]
  },
  {
   "cell_type": "markdown",
   "id": "a3fba916",
   "metadata": {},
   "source": [
    "4.4 Наивный Байес: полиномиальная модель"
   ]
  },
  {
   "cell_type": "code",
   "execution_count": 15,
   "id": "45eb7209",
   "metadata": {},
   "outputs": [
    {
     "data": {
      "text/plain": [
       "MultinomialNB(alpha=1)"
      ]
     },
     "execution_count": 15,
     "metadata": {},
     "output_type": "execute_result"
    }
   ],
   "source": [
    "mnb_model = MultinomialNB(alpha=1)\n",
    "mnb_model.fit(tfidf_train_vector, y_train)"
   ]
  },
  {
   "cell_type": "markdown",
   "id": "10513a23",
   "metadata": {},
   "source": [
    "5. Определите качество классификации на тестовом подмножестве (Balanced-Accuracy, R, P, F1)"
   ]
  },
  {
   "cell_type": "markdown",
   "id": "a886037c",
   "metadata": {},
   "source": [
    "5.1 К-ближайших соседей(KNeighbors)"
   ]
  },
  {
   "cell_type": "code",
   "execution_count": 16,
   "id": "79809e55",
   "metadata": {},
   "outputs": [
    {
     "name": "stdout",
     "output_type": "stream",
     "text": [
      "Модель К-ближайших соседей:\n",
      "Balanced accuracy score: 0.6698113207547169\n",
      "Recall score: 0.33962264150943394\n",
      "Precision score: 1.0\n",
      "F1 score: 0.5070422535211268\n"
     ]
    }
   ],
   "source": [
    "y_pred = knc_model.predict(tfidf_test_vector) # предскажем значения для y_test\n",
    "accuracy_knc = balanced_accuracy_score(y_test, y_pred)\n",
    "recall_knc = recall_score(y_test, y_pred, pos_label = 'spam')\n",
    "precision_knc = precision_score(y_test, y_pred, pos_label = 'spam')\n",
    "f1_knc = f1_score(y_test, y_pred, pos_label = 'spam')\n",
    "print('Модель К-ближайших соседей:')\n",
    "print('Balanced accuracy score:', accuracy_knc)\n",
    "print('Recall score:', recall_knc)\n",
    "print('Precision score:', precision_knc)\n",
    "print('F1 score:', f1_knc)"
   ]
  },
  {
   "cell_type": "markdown",
   "id": "b1f381eb",
   "metadata": {},
   "source": [
    "5.2 Логистическая регрессия"
   ]
  },
  {
   "cell_type": "code",
   "execution_count": 17,
   "id": "439170f7",
   "metadata": {},
   "outputs": [
    {
     "name": "stdout",
     "output_type": "stream",
     "text": [
      "Логистическая регрессия:\n",
      "Balanced accuracy score: 0.914048314518039\n",
      "Recall score: 0.8301886792452831\n",
      "Precision score: 0.9850746268656716\n",
      "F1 score: 0.9010238907849829\n"
     ]
    }
   ],
   "source": [
    "y_pred = logr_model.predict(tfidf_test_vector) # предскажем значения для y_test\n",
    "accuracy_logr = balanced_accuracy_score(y_test, y_pred)\n",
    "recall_logr = recall_score(y_test, y_pred, pos_label = 'spam')\n",
    "precision_logr = precision_score(y_test, y_pred, pos_label = 'spam')\n",
    "f1_logr = f1_score(y_test, y_pred, pos_label = 'spam')\n",
    "print('Логистическая регрессия:')\n",
    "print('Balanced accuracy score:', accuracy_logr)\n",
    "print('Recall score:', recall_logr)\n",
    "print('Precision score:', precision_logr)\n",
    "print('F1 score:', f1_logr)"
   ]
  },
  {
   "cell_type": "markdown",
   "id": "b929d3a0",
   "metadata": {},
   "source": [
    "5.3 Наивный Байес: модель Бернулли"
   ]
  },
  {
   "cell_type": "code",
   "execution_count": 18,
   "id": "92049597",
   "metadata": {},
   "outputs": [
    {
     "name": "stdout",
     "output_type": "stream",
     "text": [
      "Наивный Байес: модель Бернулли:\n",
      "Balanced accuracy score: 0.9491625220388937\n",
      "Recall score: 0.89937106918239\n",
      "Precision score: 0.9930555555555556\n",
      "F1 score: 0.943894389438944\n"
     ]
    }
   ],
   "source": [
    "y_pred = bnb_model.predict(test_binary_vector) # предскажем значения для y_test\n",
    "accuracy_bnb = balanced_accuracy_score(y_test, y_pred)\n",
    "recall_bnb = recall_score(y_test, y_pred, pos_label = 'spam')\n",
    "precision_bnb = precision_score(y_test, y_pred, pos_label = 'spam')\n",
    "f1_bnb = f1_score(y_test, y_pred, pos_label = 'spam')\n",
    "print('Наивный Байес: модель Бернулли:')\n",
    "print('Balanced accuracy score:', accuracy_bnb)\n",
    "print('Recall score:', recall_bnb)\n",
    "print('Precision score:', precision_bnb)\n",
    "print('F1 score:', f1_bnb)"
   ]
  },
  {
   "cell_type": "markdown",
   "id": "5251f621",
   "metadata": {},
   "source": [
    "5.4 Наивный Байес: полиномиальная модель"
   ]
  },
  {
   "cell_type": "code",
   "execution_count": 19,
   "id": "48a4f296",
   "metadata": {},
   "outputs": [
    {
     "name": "stdout",
     "output_type": "stream",
     "text": [
      "Наивный Байес: полиномиальная модель:\n",
      "Balanced accuracy score: 0.8742138364779874\n",
      "Recall score: 0.7484276729559748\n",
      "Precision score: 1.0\n",
      "F1 score: 0.856115107913669\n"
     ]
    }
   ],
   "source": [
    "y_pred = mnb_model.predict(tfidf_test_vector) # предскажем значения для y_test\n",
    "accuracy_mnb = balanced_accuracy_score(y_test, y_pred)\n",
    "recall_mnb = recall_score(y_test, y_pred, pos_label = 'spam')\n",
    "precision_mnb = precision_score(y_test, y_pred, pos_label = 'spam')\n",
    "f1_mnb = f1_score(y_test, y_pred, pos_label = 'spam')\n",
    "print('Наивный Байес: полиномиальная модель:')\n",
    "print('Balanced accuracy score:', accuracy_mnb)\n",
    "print('Recall score:', recall_mnb)\n",
    "print('Precision score:', precision_mnb)\n",
    "print('F1 score:', f1_mnb)"
   ]
  },
  {
   "cell_type": "markdown",
   "id": "4cb262de",
   "metadata": {},
   "source": [
    "6 Определите время обучения и предсказания"
   ]
  },
  {
   "cell_type": "markdown",
   "id": "e6b5223f",
   "metadata": {},
   "source": [
    "6.1 К-ближайших соседей(KNeighbors)"
   ]
  },
  {
   "cell_type": "code",
   "execution_count": 20,
   "id": "18d95403",
   "metadata": {},
   "outputs": [
    {
     "name": "stdout",
     "output_type": "stream",
     "text": [
      "Модель К-ближайших соседей:\n",
      "Время обучения: 0.00422080000000058 с\n",
      "Время предсказания: 0.0006477999999994211 с\n"
     ]
    }
   ],
   "source": [
    "start_fit = time.perf_counter()\n",
    "knc_model.fit(tfidf_train_vector,y_train)\n",
    "end_fit = time.perf_counter()\n",
    "fit_time_knc = end_fit - start_fit\n",
    "start_predict = time.perf_counter()\n",
    "mnb_model.predict(tfidf_test_vector)\n",
    "end_predict = time.perf_counter()\n",
    "predict_time_knc = end_predict - start_predict\n",
    "print('Модель К-ближайших соседей:')\n",
    "print('Время обучения:', fit_time_knc, \"с\")\n",
    "print('Время предсказания:', predict_time_knc, \"с\")"
   ]
  },
  {
   "cell_type": "markdown",
   "id": "c3b3c03b",
   "metadata": {},
   "source": [
    "6.2 Логистическая регрессия"
   ]
  },
  {
   "cell_type": "code",
   "execution_count": 21,
   "id": "e7f6fcaf",
   "metadata": {},
   "outputs": [
    {
     "name": "stdout",
     "output_type": "stream",
     "text": [
      "Логистическая регрессия:\n",
      "Время обучения: 0.08730130000000003 с\n",
      "Время предсказания: 0.00044709999999881234 с\n"
     ]
    }
   ],
   "source": [
    "start_fit = time.perf_counter()\n",
    "logr_model.fit(tfidf_train_vector,y_train)\n",
    "end_fit = time.perf_counter()\n",
    "fit_time_logr = end_fit - start_fit\n",
    "start_predict = time.perf_counter()\n",
    "logr_model.predict(tfidf_test_vector)\n",
    "end_predict = time.perf_counter()\n",
    "predict_time_logr = end_predict - start_predict\n",
    "print('Логистическая регрессия:')\n",
    "print('Время обучения:', fit_time_logr, \"с\")\n",
    "print('Время предсказания:', predict_time_logr, \"с\")"
   ]
  },
  {
   "cell_type": "markdown",
   "id": "b7aa0e1b",
   "metadata": {},
   "source": [
    "6.3 Наивный Байес: модель Бернулли"
   ]
  },
  {
   "cell_type": "code",
   "execution_count": 22,
   "id": "e47fc2c4",
   "metadata": {},
   "outputs": [
    {
     "name": "stdout",
     "output_type": "stream",
     "text": [
      "Наивный Байес: модель Бернулли:\n",
      "Время обучения: 0.007212600000000791 с\n",
      "Время предсказания: 0.0010121999999999076 с\n"
     ]
    }
   ],
   "source": [
    "start_fit = time.perf_counter()\n",
    "bnb_model.fit(train_binary_vector, y_train)\n",
    "end_fit = time.perf_counter()\n",
    "fit_time_bnb = end_fit - start_fit\n",
    "start_predict = time.perf_counter()\n",
    "bnb_model.predict(test_binary_vector)\n",
    "end_predict = time.perf_counter()\n",
    "predict_time_bnb = end_predict - start_predict\n",
    "print('Наивный Байес: модель Бернулли:')\n",
    "print('Время обучения:', fit_time_bnb, \"с\")\n",
    "print('Время предсказания:', predict_time_bnb, \"с\")"
   ]
  },
  {
   "cell_type": "markdown",
   "id": "bb13cef9",
   "metadata": {},
   "source": [
    "6.4 Наивный Байес: полиномиальная модель"
   ]
  },
  {
   "cell_type": "code",
   "execution_count": 23,
   "id": "963634d3",
   "metadata": {},
   "outputs": [
    {
     "name": "stdout",
     "output_type": "stream",
     "text": [
      "Логистическая регрессия:\n",
      "Время обучения: 0.007495900000000333 с\n",
      "Время предсказания: 0.0007375999999990057 с\n"
     ]
    }
   ],
   "source": [
    "start_fit = time.perf_counter()\n",
    "mnb_model.fit(tfidf_train_vector, y_train)\n",
    "end_fit = time.perf_counter()\n",
    "fit_time_mnb = end_fit - start_fit\n",
    "start_predict = time.perf_counter()\n",
    "mnb_model.predict(tfidf_test_vector)\n",
    "end_predict = time.perf_counter()\n",
    "predict_time_mnb = end_predict - start_predict\n",
    "print('Логистическая регрессия:')\n",
    "print('Время обучения:', fit_time_mnb, \"с\")\n",
    "print('Время предсказания:', predict_time_mnb, \"с\")"
   ]
  },
  {
   "cell_type": "markdown",
   "id": "5ec8f33d",
   "metadata": {},
   "source": [
    "7 Свести все значения в один датафрейм и представить результат в виде таблицы"
   ]
  },
  {
   "cell_type": "code",
   "execution_count": 24,
   "id": "1ca7db83",
   "metadata": {},
   "outputs": [],
   "source": [
    "table_data_task1 = {'Balanced accuracy score': [accuracy_knc, accuracy_logr, accuracy_bnb, accuracy_mnb], \n",
    "              'Recall score': [recall_knc, recall_logr, recall_bnb, recall_mnb],\n",
    "              'Precision score': [precision_knc, precision_logr, precision_bnb, precision_mnb],\n",
    "              'F1 score': [f1_knc, f1_logr, f1_bnb, f1_mnb],\n",
    "              'Время обучения, c': [fit_time_knc, fit_time_logr, fit_time_bnb, fit_time_mnb],\n",
    "              'Время предсказания, c': [predict_time_knc, predict_time_logr, predict_time_bnb, predict_time_mnb]}\n",
    "indexes = ['К-ближайших соседей(KNeighbors)', 'Логистическая регрессия', 'Наивный Байес: модель Бернулли', \n",
    "           'Наивный Байес: полиномиальная модель']\n",
    "df_table_task1 = pd.DataFrame(data=table_data_task1, index = indexes)"
   ]
  },
  {
   "cell_type": "code",
   "execution_count": 25,
   "id": "953b5a03",
   "metadata": {},
   "outputs": [
    {
     "data": {
      "text/html": [
       "<div>\n",
       "<style scoped>\n",
       "    .dataframe tbody tr th:only-of-type {\n",
       "        vertical-align: middle;\n",
       "    }\n",
       "\n",
       "    .dataframe tbody tr th {\n",
       "        vertical-align: top;\n",
       "    }\n",
       "\n",
       "    .dataframe thead th {\n",
       "        text-align: right;\n",
       "    }\n",
       "</style>\n",
       "<table border=\"1\" class=\"dataframe\">\n",
       "  <thead>\n",
       "    <tr style=\"text-align: right;\">\n",
       "      <th></th>\n",
       "      <th>Balanced accuracy score</th>\n",
       "      <th>Recall score</th>\n",
       "      <th>Precision score</th>\n",
       "      <th>F1 score</th>\n",
       "      <th>Время обучения, c</th>\n",
       "      <th>Время предсказания, c</th>\n",
       "    </tr>\n",
       "  </thead>\n",
       "  <tbody>\n",
       "    <tr>\n",
       "      <th>К-ближайших соседей(KNeighbors)</th>\n",
       "      <td>0.669811</td>\n",
       "      <td>0.339623</td>\n",
       "      <td>1.000000</td>\n",
       "      <td>0.507042</td>\n",
       "      <td>0.004221</td>\n",
       "      <td>0.000648</td>\n",
       "    </tr>\n",
       "    <tr>\n",
       "      <th>Логистическая регрессия</th>\n",
       "      <td>0.914048</td>\n",
       "      <td>0.830189</td>\n",
       "      <td>0.985075</td>\n",
       "      <td>0.901024</td>\n",
       "      <td>0.087301</td>\n",
       "      <td>0.000447</td>\n",
       "    </tr>\n",
       "    <tr>\n",
       "      <th>Наивный Байес: модель Бернулли</th>\n",
       "      <td>0.949163</td>\n",
       "      <td>0.899371</td>\n",
       "      <td>0.993056</td>\n",
       "      <td>0.943894</td>\n",
       "      <td>0.007213</td>\n",
       "      <td>0.001012</td>\n",
       "    </tr>\n",
       "    <tr>\n",
       "      <th>Наивный Байес: полиномиальная модель</th>\n",
       "      <td>0.874214</td>\n",
       "      <td>0.748428</td>\n",
       "      <td>1.000000</td>\n",
       "      <td>0.856115</td>\n",
       "      <td>0.007496</td>\n",
       "      <td>0.000738</td>\n",
       "    </tr>\n",
       "  </tbody>\n",
       "</table>\n",
       "</div>"
      ],
      "text/plain": [
       "                                      Balanced accuracy score  Recall score  \\\n",
       "К-ближайших соседей(KNeighbors)                      0.669811      0.339623   \n",
       "Логистическая регрессия                              0.914048      0.830189   \n",
       "Наивный Байес: модель Бернулли                       0.949163      0.899371   \n",
       "Наивный Байес: полиномиальная модель                 0.874214      0.748428   \n",
       "\n",
       "                                      Precision score  F1 score  \\\n",
       "К-ближайших соседей(KNeighbors)              1.000000  0.507042   \n",
       "Логистическая регрессия                      0.985075  0.901024   \n",
       "Наивный Байес: модель Бернулли               0.993056  0.943894   \n",
       "Наивный Байес: полиномиальная модель         1.000000  0.856115   \n",
       "\n",
       "                                      Время обучения, c  Время предсказания, c  \n",
       "К-ближайших соседей(KNeighbors)                0.004221               0.000648  \n",
       "Логистическая регрессия                        0.087301               0.000447  \n",
       "Наивный Байес: модель Бернулли                 0.007213               0.001012  \n",
       "Наивный Байес: полиномиальная модель           0.007496               0.000738  "
      ]
     },
     "metadata": {},
     "output_type": "display_data"
    }
   ],
   "source": [
    "display(df_table_task1)"
   ]
  },
  {
   "cell_type": "markdown",
   "id": "0e79566b",
   "metadata": {},
   "source": [
    "## Задание 2. Оценка качества классификации текстовых данных посредством кросс-валидации"
   ]
  },
  {
   "cell_type": "code",
   "execution_count": 26,
   "id": "e1bf073d",
   "metadata": {},
   "outputs": [],
   "source": [
    "kf = KFold(n_splits = 4, random_state = random_state, shuffle = True)"
   ]
  },
  {
   "cell_type": "markdown",
   "id": "9718ba0b-f1ea-4869-ac82-a4413e13ef10",
   "metadata": {},
   "source": [
    "1. К-ближайших соседей(KNeighbors)"
   ]
  },
  {
   "cell_type": "code",
   "execution_count": 27,
   "id": "fe91b5e0",
   "metadata": {},
   "outputs": [
    {
     "name": "stdout",
     "output_type": "stream",
     "text": [
      "Модель К-ближайших соседей:\n",
      "Balanced accuracy score: 0.6638629921464607\n",
      "Recall score: 0.32772598429292144\n",
      "Precision score: 1.0\n",
      "F1 score: 0.4934372080293693\n",
      "Время обучения: 0.015436300000001069 с\n",
      "Время предсказания: 1.4721591999999983 с\n"
     ]
    }
   ],
   "source": [
    "accuracy_list = []\n",
    "precision_list = []\n",
    "recall_list = []\n",
    "f1_list = []\n",
    "time_train_list = []\n",
    "time_predict_list = []\n",
    "for train_index, test_index in kf.split(sms_class):\n",
    "        x_train = [sms_text[i] for i in train_index]\n",
    "        x_test = [sms_text[i] for i in test_index]\n",
    "        y_train = [sms_class[i] for i in train_index]\n",
    "        y_test = [sms_class[i] for i in test_index]\n",
    "        train_vector = tfidf_transformer.fit_transform(x_train)\n",
    "        test_vector = tfidf_transformer.transform(x_test)\n",
    "        start_fit = time.perf_counter()\n",
    "        knc_model.fit(train_vector,y_train)\n",
    "        end_fit = time.perf_counter()\n",
    "        fit_time = end_fit - start_fit\n",
    "        time_train_list.append(fit_time)\n",
    "        start_predict = time.perf_counter()\n",
    "        y_pred = knc_model.predict(test_vector) \n",
    "        end_predict = time.perf_counter()\n",
    "        predict_time = end_predict - start_predict\n",
    "        time_predict_list.append(predict_time)\n",
    "        accuracy_knc = balanced_accuracy_score(y_test, y_pred)\n",
    "        recall_knc = recall_score(y_test, y_pred, pos_label = 'spam')\n",
    "        precision_knc = precision_score(y_test, y_pred, pos_label = 'spam')\n",
    "        f1_knc = f1_score(y_test, y_pred, pos_label = 'spam')\n",
    "        accuracy_list.append(accuracy_knc)\n",
    "        precision_list.append(precision_knc)\n",
    "        recall_list.append(recall_knc)\n",
    "        f1_list.append(f1_knc)\n",
    "accuracy_knc_kfold = np.mean(accuracy_list)\n",
    "recall_knc_kfold = np.mean(recall_list)\n",
    "precision_knc_kfold = np.mean(precision_list)\n",
    "f1_knc_kfold = np.mean(f1_list)\n",
    "fit_time_knc_kfold = sum(time_train_list)\n",
    "predict_time_knc_kfold = sum(time_predict_list)\n",
    "print('Модель К-ближайших соседей:')\n",
    "print('Balanced accuracy score:', accuracy_knc_kfold)\n",
    "print('Recall score:', recall_knc_kfold)\n",
    "print('Precision score:', precision_knc_kfold)\n",
    "print('F1 score:', f1_knc_kfold)\n",
    "print('Время обучения:', fit_time_knc_kfold, \"с\")\n",
    "print('Время предсказания:', predict_time_knc_kfold, \"с\")"
   ]
  },
  {
   "cell_type": "markdown",
   "id": "b81d4b66-a47d-4dbb-a328-21a5768242a6",
   "metadata": {},
   "source": [
    "2. Логистическая регрессия"
   ]
  },
  {
   "cell_type": "code",
   "execution_count": 28,
   "id": "5f8ec7ac",
   "metadata": {},
   "outputs": [
    {
     "name": "stdout",
     "output_type": "stream",
     "text": [
      "Логистическая регрессия:\n",
      "Balanced accuracy score: 0.8884747935227837\n",
      "Recall score: 0.777986888027456\n",
      "Precision score: 0.991684985298124\n",
      "F1 score: 0.8715883817433023\n",
      "Время обучения: 0.36132970000000064 с\n",
      "Время предсказания: 0.0015788999999983844 с\n"
     ]
    }
   ],
   "source": [
    "accuracy_list = []\n",
    "precision_list = []\n",
    "recall_list = []\n",
    "f1_list = []\n",
    "time_train_list = []\n",
    "time_predict_list = []\n",
    "for train_index, test_index in kf.split(sms_class):\n",
    "        x_train = [sms_text[i] for i in train_index]\n",
    "        x_test = [sms_text[i] for i in test_index]\n",
    "        y_train = [sms_class[i] for i in train_index]\n",
    "        y_test = [sms_class[i] for i in test_index]\n",
    "        train_vector = tfidf_transformer.fit_transform(x_train)\n",
    "        test_vector = tfidf_transformer.transform(x_test)\n",
    "        start_fit = time.perf_counter()\n",
    "        logr_model.fit(train_vector,y_train)\n",
    "        end_fit = time.perf_counter()\n",
    "        fit_time = end_fit - start_fit\n",
    "        time_train_list.append(fit_time)\n",
    "        start_predict = time.perf_counter()\n",
    "        y_pred = logr_model.predict(test_vector) \n",
    "        end_predict = time.perf_counter()\n",
    "        predict_time = end_predict - start_predict\n",
    "        time_predict_list.append(predict_time)\n",
    "        accuracy_logr = balanced_accuracy_score(y_test, y_pred)\n",
    "        recall_logr = recall_score(y_test, y_pred, pos_label = 'spam')\n",
    "        precision_logr = precision_score(y_test, y_pred, pos_label = 'spam')\n",
    "        f1_logr = f1_score(y_test, y_pred, pos_label = 'spam')\n",
    "        accuracy_list.append(accuracy_logr)\n",
    "        precision_list.append(precision_logr)\n",
    "        recall_list.append(recall_logr)\n",
    "        f1_list.append(f1_logr)\n",
    "accuracy_logr_kfold = np.mean(accuracy_list)\n",
    "recall_logr_kfold = np.mean(recall_list)\n",
    "precision_logr_kfold = np.mean(precision_list)\n",
    "f1_logr_kfold = np.mean(f1_list)\n",
    "fit_time_logr_kfold = sum(time_train_list)\n",
    "predict_time_logr_kfold = sum(time_predict_list)\n",
    "print('Логистическая регрессия:')\n",
    "print('Balanced accuracy score:', accuracy_logr_kfold)\n",
    "print('Recall score:', recall_logr_kfold)\n",
    "print('Precision score:', precision_logr_kfold)\n",
    "print('F1 score:', f1_logr_kfold)\n",
    "print('Время обучения:', fit_time_logr_kfold, \"с\")\n",
    "print('Время предсказания:', predict_time_logr_kfold, \"с\")"
   ]
  },
  {
   "cell_type": "markdown",
   "id": "3d371f10-2a4d-4117-be14-dd9293841592",
   "metadata": {},
   "source": [
    "3. Наивный Байес: модель Бернулли"
   ]
  },
  {
   "cell_type": "code",
   "execution_count": 29,
   "id": "2c887dfd-b4fc-4596-8f27-2e6bf919194a",
   "metadata": {},
   "outputs": [
    {
     "name": "stdout",
     "output_type": "stream",
     "text": [
      "Наивный Байес: модель Бернулли:\n",
      "Balanced accuracy score: 0.9126092418925691\n",
      "Recall score: 0.8258435698851521\n",
      "Precision score: 0.9954893173125218\n",
      "F1 score: 0.9023984799770042\n",
      "Время обучения: 0.02560570000000162 с\n",
      "Время предсказания: 0.0035469999999975244 с\n"
     ]
    }
   ],
   "source": [
    "accuracy_list = []\n",
    "precision_list = []\n",
    "recall_list = []\n",
    "f1_list = []\n",
    "time_train_list = []\n",
    "time_predict_list = []\n",
    "for train_index, test_index in kf.split(sms_class):\n",
    "        x_train = [sms_text[i] for i in train_index]\n",
    "        x_test = [sms_text[i] for i in test_index]\n",
    "        y_train = [sms_class[i] for i in train_index]\n",
    "        y_test = [sms_class[i] for i in test_index]\n",
    "        train_binary_vector = count_vectorizer.fit_transform(x_train)\n",
    "        test_binary_vector = count_vectorizer.transform(x_test)\n",
    "        start_fit = time.perf_counter()\n",
    "        bnb_model.fit(train_binary_vector,y_train)\n",
    "        end_fit = time.perf_counter()\n",
    "        fit_time = end_fit - start_fit\n",
    "        time_train_list.append(fit_time)\n",
    "        start_predict = time.perf_counter()\n",
    "        y_pred = bnb_model.predict(test_binary_vector) \n",
    "        end_predict = time.perf_counter()\n",
    "        predict_time = end_predict - start_predict\n",
    "        time_predict_list.append(predict_time)\n",
    "        accuracy_bnb = balanced_accuracy_score(y_test, y_pred)\n",
    "        recall_bnb = recall_score(y_test, y_pred, pos_label = 'spam')\n",
    "        precision_bnb = precision_score(y_test, y_pred, pos_label = 'spam')\n",
    "        f1_bnb = f1_score(y_test, y_pred, pos_label = 'spam')\n",
    "        accuracy_list.append(accuracy_bnb)\n",
    "        precision_list.append(precision_bnb)\n",
    "        recall_list.append(recall_bnb)\n",
    "        f1_list.append(f1_bnb)\n",
    "accuracy_bnb_kfold = np.mean(accuracy_list)\n",
    "recall_bnb_kfold = np.mean(recall_list)\n",
    "precision_bnb_kfold = np.mean(precision_list)\n",
    "f1_bnb_kfold = np.mean(f1_list)\n",
    "fit_time_bnb_kfold = sum(time_train_list)\n",
    "predict_time_bnb_kfold = sum(time_predict_list)\n",
    "print('Наивный Байес: модель Бернулли:')\n",
    "print('Balanced accuracy score:', accuracy_bnb_kfold)\n",
    "print('Recall score:', recall_bnb_kfold)\n",
    "print('Precision score:', precision_bnb_kfold)\n",
    "print('F1 score:', f1_bnb_kfold)\n",
    "print('Время обучения:', fit_time_bnb_kfold, \"с\")\n",
    "print('Время предсказания:', predict_time_bnb_kfold, \"с\")"
   ]
  },
  {
   "cell_type": "markdown",
   "id": "e6c79def-aefe-4977-b247-acc82a9bd0e4",
   "metadata": {},
   "source": [
    "4. Наивный Байес: полиномиальная модель"
   ]
  },
  {
   "cell_type": "code",
   "execution_count": 30,
   "id": "5cd37bc2-4bc9-4f5f-af1b-aa5c7694ee40",
   "metadata": {},
   "outputs": [
    {
     "name": "stdout",
     "output_type": "stream",
     "text": [
      "Наивный Байес: полиномиальная модель:\n",
      "Balanced accuracy score: 0.8489292781255257\n",
      "Recall score: 0.6978585562510512\n",
      "Precision score: 1.0\n",
      "F1 score: 0.821804900911617\n",
      "Время обучения: 0.027818700000000973 с\n",
      "Время предсказания: 0.0021997000000002487 с\n"
     ]
    }
   ],
   "source": [
    "accuracy_list = []\n",
    "precision_list = []\n",
    "recall_list = []\n",
    "f1_list = []\n",
    "time_train_list = []\n",
    "time_predict_list = []\n",
    "for train_index, test_index in kf.split(sms_class):\n",
    "        x_train = [sms_text[i] for i in train_index]\n",
    "        x_test = [sms_text[i] for i in test_index]\n",
    "        y_train = [sms_class[i] for i in train_index]\n",
    "        y_test = [sms_class[i] for i in test_index]\n",
    "        train_vector = tfidf_transformer.fit_transform(x_train)\n",
    "        test_vector = tfidf_transformer.transform(x_test)\n",
    "        start_fit = time.perf_counter()\n",
    "        mnb_model.fit(train_vector,y_train)\n",
    "        end_fit = time.perf_counter()\n",
    "        fit_time = end_fit - start_fit\n",
    "        time_train_list.append(fit_time)\n",
    "        start_predict = time.perf_counter()\n",
    "        y_pred = mnb_model.predict(test_vector) \n",
    "        end_predict = time.perf_counter()\n",
    "        predict_time = end_predict - start_predict\n",
    "        time_predict_list.append(predict_time)\n",
    "        accuracy_mnb = balanced_accuracy_score(y_test, y_pred)\n",
    "        recall_mnb = recall_score(y_test, y_pred, pos_label = 'spam')\n",
    "        precision_mnb = precision_score(y_test, y_pred, pos_label = 'spam')\n",
    "        f1_mnb = f1_score(y_test, y_pred, pos_label = 'spam')\n",
    "        accuracy_list.append(accuracy_mnb)\n",
    "        precision_list.append(precision_mnb)\n",
    "        recall_list.append(recall_mnb)\n",
    "        f1_list.append(f1_mnb)\n",
    "accuracy_mnb_kfold = np.mean(accuracy_list)\n",
    "recall_mnb_kfold = np.mean(recall_list)\n",
    "precision_mnb_kfold = np.mean(precision_list)\n",
    "f1_mnb_kfold = np.mean(f1_list)\n",
    "fit_time_mnb_kfold = sum(time_train_list)\n",
    "predict_time_mnb_kfold = sum(time_predict_list)\n",
    "print('Наивный Байес: полиномиальная модель:')\n",
    "print('Balanced accuracy score:', accuracy_mnb_kfold)\n",
    "print('Recall score:', recall_mnb_kfold)\n",
    "print('Precision score:', precision_mnb_kfold)\n",
    "print('F1 score:', f1_mnb_kfold)\n",
    "print('Время обучения:', fit_time_mnb_kfold, \"с\")\n",
    "print('Время предсказания:', predict_time_mnb_kfold, \"с\")"
   ]
  },
  {
   "cell_type": "code",
   "execution_count": 31,
   "id": "df45ece1-1bfb-4692-acd2-27cefd997a30",
   "metadata": {},
   "outputs": [],
   "source": [
    "table_data_task2 = {'Balanced accuracy score': [accuracy_knc_kfold, accuracy_logr_kfold, accuracy_bnb_kfold, accuracy_mnb_kfold], \n",
    "              'Recall score': [recall_knc_kfold, recall_logr_kfold, recall_bnb_kfold, recall_mnb_kfold],\n",
    "              'Precision score': [precision_knc_kfold, precision_logr_kfold, precision_bnb_kfold, precision_mnb_kfold],\n",
    "              'F1 score': [f1_knc_kfold, f1_logr_kfold, f1_bnb_kfold, f1_mnb_kfold],\n",
    "              'Время обучения, c': [fit_time_knc_kfold, fit_time_logr_kfold, fit_time_bnb_kfold, fit_time_mnb_kfold],\n",
    "              'Время предсказания, c': [predict_time_knc_kfold, predict_time_logr_kfold, predict_time_bnb_kfold, predict_time_mnb_kfold]}\n",
    "indexes = ['К-ближайших соседей(KNeighbors)', 'Логистическая регрессия', 'Наивный Байес: модель Бернулли', \n",
    "           'Наивный Байес: полиномиальная модель']\n",
    "df_table_task2 = pd.DataFrame(data=table_data_task2, index = indexes)"
   ]
  },
  {
   "cell_type": "code",
   "execution_count": 32,
   "id": "b3fa3dbe-1a12-42f1-b77b-12b045ca1f02",
   "metadata": {},
   "outputs": [
    {
     "data": {
      "text/html": [
       "<div>\n",
       "<style scoped>\n",
       "    .dataframe tbody tr th:only-of-type {\n",
       "        vertical-align: middle;\n",
       "    }\n",
       "\n",
       "    .dataframe tbody tr th {\n",
       "        vertical-align: top;\n",
       "    }\n",
       "\n",
       "    .dataframe thead th {\n",
       "        text-align: right;\n",
       "    }\n",
       "</style>\n",
       "<table border=\"1\" class=\"dataframe\">\n",
       "  <thead>\n",
       "    <tr style=\"text-align: right;\">\n",
       "      <th></th>\n",
       "      <th>Balanced accuracy score</th>\n",
       "      <th>Recall score</th>\n",
       "      <th>Precision score</th>\n",
       "      <th>F1 score</th>\n",
       "      <th>Время обучения, c</th>\n",
       "      <th>Время предсказания, c</th>\n",
       "    </tr>\n",
       "  </thead>\n",
       "  <tbody>\n",
       "    <tr>\n",
       "      <th>К-ближайших соседей(KNeighbors)</th>\n",
       "      <td>0.663863</td>\n",
       "      <td>0.327726</td>\n",
       "      <td>1.000000</td>\n",
       "      <td>0.493437</td>\n",
       "      <td>0.015436</td>\n",
       "      <td>1.472159</td>\n",
       "    </tr>\n",
       "    <tr>\n",
       "      <th>Логистическая регрессия</th>\n",
       "      <td>0.888475</td>\n",
       "      <td>0.777987</td>\n",
       "      <td>0.991685</td>\n",
       "      <td>0.871588</td>\n",
       "      <td>0.361330</td>\n",
       "      <td>0.001579</td>\n",
       "    </tr>\n",
       "    <tr>\n",
       "      <th>Наивный Байес: модель Бернулли</th>\n",
       "      <td>0.912609</td>\n",
       "      <td>0.825844</td>\n",
       "      <td>0.995489</td>\n",
       "      <td>0.902398</td>\n",
       "      <td>0.025606</td>\n",
       "      <td>0.003547</td>\n",
       "    </tr>\n",
       "    <tr>\n",
       "      <th>Наивный Байес: полиномиальная модель</th>\n",
       "      <td>0.848929</td>\n",
       "      <td>0.697859</td>\n",
       "      <td>1.000000</td>\n",
       "      <td>0.821805</td>\n",
       "      <td>0.027819</td>\n",
       "      <td>0.002200</td>\n",
       "    </tr>\n",
       "  </tbody>\n",
       "</table>\n",
       "</div>"
      ],
      "text/plain": [
       "                                      Balanced accuracy score  Recall score  \\\n",
       "К-ближайших соседей(KNeighbors)                      0.663863      0.327726   \n",
       "Логистическая регрессия                              0.888475      0.777987   \n",
       "Наивный Байес: модель Бернулли                       0.912609      0.825844   \n",
       "Наивный Байес: полиномиальная модель                 0.848929      0.697859   \n",
       "\n",
       "                                      Precision score  F1 score  \\\n",
       "К-ближайших соседей(KNeighbors)              1.000000  0.493437   \n",
       "Логистическая регрессия                      0.991685  0.871588   \n",
       "Наивный Байес: модель Бернулли               0.995489  0.902398   \n",
       "Наивный Байес: полиномиальная модель         1.000000  0.821805   \n",
       "\n",
       "                                      Время обучения, c  Время предсказания, c  \n",
       "К-ближайших соседей(KNeighbors)                0.015436               1.472159  \n",
       "Логистическая регрессия                        0.361330               0.001579  \n",
       "Наивный Байес: модель Бернулли                 0.025606               0.003547  \n",
       "Наивный Байес: полиномиальная модель           0.027819               0.002200  "
      ]
     },
     "metadata": {},
     "output_type": "display_data"
    }
   ],
   "source": [
    "display(df_table_task2)"
   ]
  },
  {
   "cell_type": "markdown",
   "id": "42485b9e-b6ed-48f8-a67d-81e48eb964cb",
   "metadata": {
    "tags": []
   },
   "source": [
    "## Задание 3. Выбор модели"
   ]
  },
  {
   "cell_type": "markdown",
   "id": "2075e93a-272c-4689-b780-4bc201c5aa1f",
   "metadata": {},
   "source": [
    "1. Используя данные из задачи 1, разбейте обучающее подмножество (train) посредством стратифицированной кросс-валидации k-folds (k=4)"
   ]
  },
  {
   "cell_type": "markdown",
   "id": "19e8a54a-80b4-432b-aac1-a8a70ec922b0",
   "metadata": {},
   "source": [
    "K-fold уже создано в рамках задания № 2"
   ]
  },
  {
   "cell_type": "markdown",
   "id": "a90e16b9-2b89-4fbd-bef4-6457f180c139",
   "metadata": {},
   "source": [
    "2. Обучите и протестируйте на разбитом обучающем подмножестве классификаторы со следующими параметрами:\n",
    "    - количество соседей: `np.arange(1, 150, 20)`\n",
    "    - параметр регуляризации: `np.logspace(-2, 10, 8, base=10)`\n",
    "    - сглаживающий параметр: `np.logspace(-4, 1, 8, base=10)`"
   ]
  },
  {
   "cell_type": "markdown",
   "id": "1c0cc247-b009-4411-ab28-3e964e1eea44",
   "metadata": {},
   "source": [
    "Переопредилим модели из первого задания"
   ]
  },
  {
   "cell_type": "code",
   "execution_count": 33,
   "id": "1f263a22-85ee-4011-9878-0c39ba1854ad",
   "metadata": {},
   "outputs": [],
   "source": [
    "knc_model_task3 = KNeighborsClassifier()\n",
    "logr_model_task3 = LogisticRegression(penalty=\"l2\", fit_intercept=True, max_iter=100,\n",
    "                                solver=\"lbfgs\", random_state=123)\n",
    "bnb_model_task3 = BernoulliNB(binarize=None)\n",
    "mnb_model_task3 = MultinomialNB()"
   ]
  },
  {
   "cell_type": "markdown",
   "id": "6ce1134d-0e00-44a2-b0f7-b83ada2e89b3",
   "metadata": {},
   "source": [
    "Создадим словари для последующего указания в GridSearchCV, для этого выведем все ключи параметров для корректного указания и работы GridSearchCV"
   ]
  },
  {
   "cell_type": "code",
   "execution_count": 34,
   "id": "80a1d755-0566-4a68-a8ca-53087d455f10",
   "metadata": {},
   "outputs": [
    {
     "name": "stdout",
     "output_type": "stream",
     "text": [
      "dict_keys(['algorithm', 'leaf_size', 'metric', 'metric_params', 'n_jobs', 'n_neighbors', 'p', 'weights']) - ключи Kneighbors\n",
      "dict_keys(['C', 'class_weight', 'dual', 'fit_intercept', 'intercept_scaling', 'l1_ratio', 'max_iter', 'multi_class', 'n_jobs', 'penalty', 'random_state', 'solver', 'tol', 'verbose', 'warm_start']) - ключи Лог.регр.\n",
      "dict_keys(['alpha', 'binarize', 'class_prior', 'fit_prior']) - ключи Наивный Байес\n"
     ]
    }
   ],
   "source": [
    "print(knc_model_task3.get_params().keys(), '- ключи Kneighbors')\n",
    "print(logr_model_task3.get_params().keys(), '- ключи Лог.регр.')\n",
    "print(bnb_model_task3.get_params().keys(), '- ключи Наивный Байес')"
   ]
  },
  {
   "cell_type": "code",
   "execution_count": 35,
   "id": "3ecbfd8b-dddb-416a-a67d-ed9ea5dad21e",
   "metadata": {},
   "outputs": [],
   "source": [
    "knc_params = {\"model__n_neighbors\": np.arange(1, 150, 20)}\n",
    "logr_params = {\"model__C\": np.logspace(-2, 10, 8, base=10)}\n",
    "bnb_params = {\"model__alpha\": np.logspace(-4, 1, 8, base=10)}\n",
    "mnb_params = {\"model__alpha\": np.logspace(-4, 1, 8, base=10)}"
   ]
  },
  {
   "cell_type": "markdown",
   "id": "6dd58885-323a-4fd6-ab72-920c80f7e505",
   "metadata": {},
   "source": [
    "Переопределим векторизацию для n-gram = 1"
   ]
  },
  {
   "cell_type": "code",
   "execution_count": 36,
   "id": "47c7f9a8-5449-410a-81ff-954a067042c8",
   "metadata": {},
   "outputs": [],
   "source": [
    "tfidf_transformer_1 = TfidfVectorizer(lowercase=True, use_idf=True, \n",
    "                                    ngram_range=(1,1), smooth_idf=False)\n",
    "count_vectorizer_1 = CountVectorizer(analyzer=\"word\", ngram_range=(1,1),\n",
    "                                   lowercase=True, binary=True)"
   ]
  },
  {
   "cell_type": "markdown",
   "id": "2c6dd22a-eaf6-46ad-bd63-efe1e98ccc95",
   "metadata": {},
   "source": [
    "Создадим пайплайн для метода К-ближайших соседей(KNeighbors) и используем GridSearch для определения лучшей модели"
   ]
  },
  {
   "cell_type": "code",
   "execution_count": 37,
   "id": "72baf2d9-1982-4204-a01b-f083dacf3919",
   "metadata": {},
   "outputs": [
    {
     "name": "stdout",
     "output_type": "stream",
     "text": [
      "Наилучшая точность для метода К-ближайших соседей при ngram = (1,1)- 0.8517797288554395\n",
      "Лучший параметр модели К-ближайших соседей при ngram = (1,1)- 21\n",
      "Время обучения лучшей модели 0.10967528820037842 с\n",
      "Время предсказания лучшей модели 0.4313235000000013 c\n"
     ]
    },
    {
     "data": {
      "image/png": "[encoded data removed]",
      "text/plain": [
       "<Figure size 500x300 with 1 Axes>"
      ]
     },
     "metadata": {},
     "output_type": "display_data"
    }
   ],
   "source": [
    "pipeline_model_knc = Pipeline([(\"transformer\", tfidf_transformer_1), (\"model\", knc_model_task3)])\n",
    "knc_model_grid = GridSearchCV(pipeline_model_knc, knc_params, cv=kf, scoring='balanced_accuracy')\n",
    "knc_model_grid.fit(x_train, y_train);\n",
    "\n",
    "best_accur_ngram1_knc = max(knc_model_grid.cv_results_['mean_test_score'])\n",
    "best_param_ngram1_knc = knc_params['model__n_neighbors'][np.argmax(knc_model_grid.cv_results_['mean_test_score'])]\n",
    "best_fit_time_ngram1_knc = knc_model_grid.cv_results_['mean_fit_time'][np.argmax(knc_model_grid.cv_results_['mean_test_score'])]\n",
    "start_fit = time.perf_counter()\n",
    "y_pred = knc_model_grid.best_estimator_.predict(x_test)\n",
    "end_fit = time.perf_counter()\n",
    "best_predict_time_ngram1_knc = end_fit - start_fit\n",
    "recall_ngram1_knc = recall_score(y_test, y_pred, pos_label = 'spam')\n",
    "precision_ngram1_knc = precision_score(y_test, y_pred, pos_label = 'spam')\n",
    "f1_ngram1_knc = f1_score(y_test, y_pred, pos_label = 'spam')\n",
    "\n",
    "plt.figure(figsize=[5, 3])\n",
    "plt.title(\"К-ближайших соседей\")\n",
    "plt.xlabel(\"Количество соседей\")\n",
    "plt.ylabel(\"Score\")\n",
    "plt.plot(knc_params['model__n_neighbors'],knc_model_grid.cv_results_['mean_test_score'])\n",
    "plt.grid(True)\n",
    "\n",
    "print('Наилучшая точность для метода К-ближайших соседей при ngram = (1,1)-',best_accur_ngram1_knc)\n",
    "print('Лучший параметр модели К-ближайших соседей при ngram = (1,1)-',best_param_ngram1_knc)\n",
    "print('Время обучения лучшей модели', best_fit_time_ngram1_knc,'с')\n",
    "print('Время предсказания лучшей модели', best_predict_time_ngram1_knc, 'c')"
   ]
  },
  {
   "cell_type": "markdown",
   "id": "c8dd6dce-a118-4ade-9ea5-79fb5b37227f",
   "metadata": {},
   "source": [
    "Создадим пайплайн для метода Логистическая регрессия и используем GridSearch для определения лучшей модели"
   ]
  },
  {
   "cell_type": "code",
   "execution_count": 38,
   "id": "725680f0-8fa7-4ae1-a9cd-be30856f5a74",
   "metadata": {},
   "outputs": [
    {
     "name": "stdout",
     "output_type": "stream",
     "text": [
      "Наилучшая точность для метода Логистическая регрессия при ngram = (1,1)- 0.9553900559219886\n",
      "Лучший параметр модели Логистическая регрессия при ngram = (1,1)- 193069772.88832456\n",
      "Время обучения лучшей модели 0.19775986671447754 с\n",
      "Время предсказания лучшей модели 0.03648099999999488 c\n"
     ]
    },
    {
     "data": {
      "image/png": "[encoded data removed]",
      "text/plain": [
       "<Figure size 500x300 with 1 Axes>"
      ]
     },
     "metadata": {},
     "output_type": "display_data"
    }
   ],
   "source": [
    "pipeline_model_logr = Pipeline([(\"transformer\", tfidf_transformer_1), (\"model\", logr_model_task3)])\n",
    "logr_model_grid = GridSearchCV(pipeline_model_logr, logr_params, cv=kf, scoring='balanced_accuracy')\n",
    "logr_model_grid.fit(x_train, y_train);\n",
    "\n",
    "best_accur_ngram1_logr = max(logr_model_grid.cv_results_['mean_test_score'])\n",
    "best_param_ngram1_logr = logr_params['model__C'][np.argmax(logr_model_grid.cv_results_['mean_test_score'])]\n",
    "best_fit_time_ngram1_logr = logr_model_grid.cv_results_['mean_fit_time'][np.argmax(logr_model_grid.cv_results_['mean_test_score'])]\n",
    "start_fit = time.perf_counter()\n",
    "y_pred = logr_model_grid.best_estimator_.predict(x_test)\n",
    "end_fit = time.perf_counter()\n",
    "best_predict_time_ngram1_logr = end_fit - start_fit\n",
    "recall_ngram1_logr = recall_score(y_test, y_pred, pos_label = 'spam')\n",
    "precision_ngram1_logr = precision_score(y_test, y_pred, pos_label = 'spam')\n",
    "f1_ngram1_logr = f1_score(y_test, y_pred, pos_label = 'spam')\n",
    "\n",
    "plt.figure(figsize=[5, 3])\n",
    "plt.xscale('log')\n",
    "plt.title(\"Логистическая регрессия\")\n",
    "plt.xlabel(\"Параметр регуляризации\")\n",
    "plt.ylabel(\"Score\")\n",
    "plt.plot(logr_params['model__C'],logr_model_grid.cv_results_['mean_test_score'])\n",
    "plt.grid(True)\n",
    "\n",
    "print('Наилучшая точность для метода Логистическая регрессия при ngram = (1,1)-',best_accur_ngram1_logr)\n",
    "print('Лучший параметр модели Логистическая регрессия при ngram = (1,1)-',best_param_ngram1_logr)\n",
    "print('Время обучения лучшей модели', best_fit_time_ngram1_logr,'с')\n",
    "print('Время предсказания лучшей модели', best_predict_time_ngram1_logr, 'c')"
   ]
  },
  {
   "cell_type": "markdown",
   "id": "9ee64c2d-1559-45cb-b4f2-f8598dba3bda",
   "metadata": {},
   "source": [
    "Создадим пайплайн для метода Наивный Байес: модель Бернулли и используем GridSearch для определения лучшей модели"
   ]
  },
  {
   "cell_type": "code",
   "execution_count": 39,
   "id": "86979cbd-6e3d-449b-a08e-23cd9db00466",
   "metadata": {},
   "outputs": [
    {
     "name": "stdout",
     "output_type": "stream",
     "text": [
      "Наилучшая точность для метода Наивный Байес: модель Бернулли при ngram = (1,1)- 0.9598606992975551\n",
      "Лучший параметр модели Наивный Байес: модель Бернулли при ngram = (1,1)- 0.07196856730011521\n",
      "Время обучения лучшей модели 0.11073684692382812 с\n",
      "Время предсказания лучшей модели 0.04383059999999972 c\n"
     ]
    },
    {
     "data": {
      "image/png": "[encoded data removed]",
      "text/plain": [
       "<Figure size 500x300 with 1 Axes>"
      ]
     },
     "metadata": {},
     "output_type": "display_data"
    }
   ],
   "source": [
    "pipeline_model_bnb = Pipeline([(\"transformer\", count_vectorizer_1), (\"model\", bnb_model_task3)])\n",
    "bnb_model_grid = GridSearchCV(pipeline_model_bnb, bnb_params, cv=kf, scoring='balanced_accuracy')\n",
    "bnb_model_grid.fit(x_train, y_train);\n",
    "\n",
    "best_accur_ngram1_bnb = max(bnb_model_grid.cv_results_['mean_test_score'])\n",
    "best_param_ngram1_bnb = bnb_params['model__alpha'][np.argmax(bnb_model_grid.cv_results_['mean_test_score'])]\n",
    "best_fit_time_ngram1_bnb = bnb_model_grid.cv_results_['mean_fit_time'][np.argmax(bnb_model_grid.cv_results_['mean_test_score'])]\n",
    "start_fit = time.perf_counter()\n",
    "y_pred = bnb_model_grid.best_estimator_.predict(x_test)\n",
    "end_fit = time.perf_counter()\n",
    "best_predict_time_ngram1_bnb = end_fit - start_fit\n",
    "recall_ngram1_bnb = recall_score(y_test, y_pred, pos_label = 'spam')\n",
    "precision_ngram1_bnb = precision_score(y_test, y_pred, pos_label = 'spam')\n",
    "f1_ngram1_bnb = f1_score(y_test, y_pred, pos_label = 'spam')\n",
    "\n",
    "plt.figure(figsize=[5, 3])\n",
    "plt.xscale('log')\n",
    "plt.title(\"Наивный Байес: модель Бернулли\")\n",
    "plt.xlabel(\"Cглаживающий параметр\")\n",
    "plt.ylabel(\"Score\")\n",
    "plt.plot(bnb_params['model__alpha'],bnb_model_grid.cv_results_['mean_test_score'])\n",
    "plt.grid(True)\n",
    "\n",
    "print('Наилучшая точность для метода Наивный Байес: модель Бернулли при ngram = (1,1)-',best_accur_ngram1_bnb)\n",
    "print('Лучший параметр модели Наивный Байес: модель Бернулли при ngram = (1,1)-',best_param_ngram1_bnb)\n",
    "print('Время обучения лучшей модели', best_fit_time_ngram1_bnb,'с')\n",
    "print('Время предсказания лучшей модели', best_predict_time_ngram1_bnb, 'c')"
   ]
  },
  {
   "cell_type": "markdown",
   "id": "6f3773e5-9109-4af9-b51e-8bd7f55ea7b4",
   "metadata": {},
   "source": [
    "Создадим пайплайн для метода Наивный Байес: полиномиальная модель и используем GridSearch для определения лучшей модели"
   ]
  },
  {
   "cell_type": "code",
   "execution_count": 40,
   "id": "bff43be7-1ecf-4d50-93c3-108a3c6bcc11",
   "metadata": {},
   "outputs": [
    {
     "name": "stdout",
     "output_type": "stream",
     "text": [
      "Наилучшая точность для метода Наивный Байес: полиномиальная модель при ngram = (1,1)- 0.951289236150143\n",
      "Лучший параметр модели Наивный Байес: полиномиальная модель при ngram = (1,1)- 0.013894954943731374\n",
      "Время обучения лучшей модели 0.12125951051712036 с\n",
      "Время предсказания лучшей модели 0.04029239999999845 c\n"
     ]
    },
    {
     "data": {
      "image/png": "[encoded data removed]",
      "text/plain": [
       "<Figure size 500x300 with 1 Axes>"
      ]
     },
     "metadata": {},
     "output_type": "display_data"
    }
   ],
   "source": [
    "pipeline_model_mnb = Pipeline([(\"transformer\", tfidf_transformer_1), (\"model\", mnb_model_task3)])\n",
    "mnb_model_grid = GridSearchCV(pipeline_model_mnb, mnb_params, cv=kf, scoring='balanced_accuracy')\n",
    "mnb_model_grid.fit(x_train, y_train);\n",
    "\n",
    "best_accur_ngram1_mnb = max(mnb_model_grid.cv_results_['mean_test_score'])\n",
    "best_param_ngram1_mnb = mnb_params['model__alpha'][np.argmax(mnb_model_grid.cv_results_['mean_test_score'])]\n",
    "best_fit_time_ngram1_mnb = mnb_model_grid.cv_results_['mean_fit_time'][np.argmax(mnb_model_grid.cv_results_['mean_test_score'])]\n",
    "start_fit = time.perf_counter()\n",
    "y_pred = mnb_model_grid.best_estimator_.predict(x_test)\n",
    "end_fit = time.perf_counter()\n",
    "best_predict_time_ngram1_mnb = end_fit - start_fit\n",
    "recall_ngram1_mnb = recall_score(y_test, y_pred, pos_label = 'spam')\n",
    "precision_ngram1_mnb = precision_score(y_test, y_pred, pos_label = 'spam')\n",
    "f1_ngram1_mnb = f1_score(y_test, y_pred, pos_label = 'spam')\n",
    "\n",
    "plt.figure(figsize=[5, 3])\n",
    "plt.xscale('log')\n",
    "plt.title(\"Наивный Байес: полиномиальная модель\")\n",
    "plt.xlabel(\"Cглаживающий параметр\")\n",
    "plt.ylabel(\"Score\")\n",
    "plt.plot(mnb_params['model__alpha'],mnb_model_grid.cv_results_['mean_test_score'])\n",
    "plt.grid(True)\n",
    "\n",
    "print('Наилучшая точность для метода Наивный Байес: полиномиальная модель при ngram = (1,1)-',best_accur_ngram1_mnb)\n",
    "print('Лучший параметр модели Наивный Байес: полиномиальная модель при ngram = (1,1)-',best_param_ngram1_mnb)\n",
    "print('Время обучения лучшей модели', best_fit_time_ngram1_mnb,'с')\n",
    "print('Время предсказания лучшей модели', best_predict_time_ngram1_mnb, 'c')"
   ]
  },
  {
   "cell_type": "markdown",
   "id": "d9d235e9-fd97-4ac6-88a5-87c2d6fb407b",
   "metadata": {},
   "source": [
    "Определим векторизацию для n-gram = 2"
   ]
  },
  {
   "cell_type": "code",
   "execution_count": 41,
   "id": "5542aba1-acf1-4125-8a55-6fbc6dafb9f4",
   "metadata": {},
   "outputs": [],
   "source": [
    "tfidf_transformer_2 = TfidfVectorizer(lowercase=True, use_idf=True, \n",
    "                                    ngram_range=(2,2), smooth_idf=False)\n",
    "count_vectorizer_2 = CountVectorizer(analyzer=\"word\", ngram_range=(2,2),\n",
    "                                   lowercase=True, binary=True)"
   ]
  },
  {
   "cell_type": "markdown",
   "id": "bb7db93a-a6c9-46d9-bffb-1ad799902232",
   "metadata": {},
   "source": [
    "Создадим пайплайн для метода К-ближайших соседей(KNeighbors) и используем GridSearch для определения лучшей модели"
   ]
  },
  {
   "cell_type": "code",
   "execution_count": 42,
   "id": "8d15f684-6ad6-4e2a-a38c-933f04c12753",
   "metadata": {},
   "outputs": [
    {
     "name": "stdout",
     "output_type": "stream",
     "text": [
      "Наилучшая точность для метода К-ближайших соседей при ngram = (2,2)- 0.7477214243679202\n",
      "Лучший параметр модели К-ближайших соседей при ngram = (2,2)- 1\n",
      "Время обучения лучшей модели 0.2641218900680542 с\n",
      "Время предсказания лучшей модели 0.23263839999999902 c\n"
     ]
    },
    {
     "data": {
      "image/png": "[encoded data removed]",
      "text/plain": [
       "<Figure size 500x300 with 1 Axes>"
      ]
     },
     "metadata": {},
     "output_type": "display_data"
    }
   ],
   "source": [
    "pipeline_model_knc = Pipeline([(\"transformer\", tfidf_transformer_2), (\"model\", knc_model_task3)])\n",
    "knc_model_grid = GridSearchCV(pipeline_model_knc, knc_params, cv=kf, scoring='balanced_accuracy')\n",
    "knc_model_grid.fit(x_train, y_train);\n",
    "\n",
    "best_accur_ngram2_knc = max(knc_model_grid.cv_results_['mean_test_score'])\n",
    "best_param_ngram2_knc = knc_params['model__n_neighbors'][np.argmax(knc_model_grid.cv_results_['mean_test_score'])]\n",
    "best_fit_time_ngram2_knc = knc_model_grid.cv_results_['mean_fit_time'][np.argmax(knc_model_grid.cv_results_['mean_test_score'])]\n",
    "start_fit = time.perf_counter()\n",
    "y_pred = knc_model_grid.best_estimator_.predict(x_test)\n",
    "end_fit = time.perf_counter()\n",
    "best_predict_time_ngram2_knc = end_fit - start_fit\n",
    "recall_ngram2_knc = recall_score(y_test, y_pred, pos_label = 'spam')\n",
    "precision_ngram2_knc = precision_score(y_test, y_pred, pos_label = 'spam')\n",
    "f1_ngram2_knc = f1_score(y_test, y_pred, pos_label = 'spam')\n",
    "\n",
    "plt.figure(figsize=[5, 3])\n",
    "plt.title(\"К-ближайших соседей\")\n",
    "plt.xlabel(\"Количество соседей\")\n",
    "plt.ylabel(\"Score\")\n",
    "plt.plot(knc_params['model__n_neighbors'],knc_model_grid.cv_results_['mean_test_score'])\n",
    "plt.grid(True)\n",
    "\n",
    "print('Наилучшая точность для метода К-ближайших соседей при ngram = (2,2)-',best_accur_ngram2_knc)\n",
    "print('Лучший параметр модели К-ближайших соседей при ngram = (2,2)-',best_param_ngram2_knc)\n",
    "print('Время обучения лучшей модели', best_fit_time_ngram2_knc,'с')\n",
    "print('Время предсказания лучшей модели', best_predict_time_ngram2_knc, 'c')"
   ]
  },
  {
   "cell_type": "markdown",
   "id": "c53a4ec8-f421-46f0-90a2-dad4bde6dc5b",
   "metadata": {},
   "source": [
    "Создадим пайплайн для метода Логистическая регрессия и используем GridSearch для определения лучшей модели"
   ]
  },
  {
   "cell_type": "code",
   "execution_count": 43,
   "id": "cf41e04e-3e83-463e-9750-d5f06dac942b",
   "metadata": {},
   "outputs": [
    {
     "name": "stdout",
     "output_type": "stream",
     "text": [
      "Наилучшая точность для метода Логистическая регрессия при ngram = (2,2)- 0.9308387711286525\n",
      "Лучший параметр модели Логистическая регрессия при ngram = (2,2)- 193069772.88832456\n",
      "Время обучения лучшей модели 0.6216779351234436 с\n",
      "Время предсказания лучшей модели 0.050982300000001146 c\n"
     ]
    },
    {
     "data": {
      "image/png": "[encoded data removed]",
      "text/plain": [
       "<Figure size 500x300 with 1 Axes>"
      ]
     },
     "metadata": {},
     "output_type": "display_data"
    }
   ],
   "source": [
    "pipeline_model_logr = Pipeline([(\"transformer\", tfidf_transformer_2), (\"model\", logr_model_task3)])\n",
    "logr_model_grid = GridSearchCV(pipeline_model_logr, logr_params, cv=kf, scoring='balanced_accuracy')\n",
    "logr_model_grid.fit(x_train, y_train);\n",
    "\n",
    "best_accur_ngram2_logr = max(logr_model_grid.cv_results_['mean_test_score'])\n",
    "best_param_ngram2_logr = logr_params['model__C'][np.argmax(logr_model_grid.cv_results_['mean_test_score'])]\n",
    "best_fit_time_ngram2_logr = logr_model_grid.cv_results_['mean_fit_time'][np.argmax(logr_model_grid.cv_results_['mean_test_score'])]\n",
    "start_fit = time.perf_counter()\n",
    "y_pred = logr_model_grid.best_estimator_.predict(x_test)\n",
    "end_fit = time.perf_counter()\n",
    "best_predict_time_ngram2_logr = end_fit - start_fit\n",
    "recall_ngram2_logr = recall_score(y_test, y_pred, pos_label = 'spam')\n",
    "precision_ngram2_logr = precision_score(y_test, y_pred, pos_label = 'spam')\n",
    "f1_ngram2_logr = f1_score(y_test, y_pred, pos_label = 'spam')\n",
    "\n",
    "plt.figure(figsize=[5, 3])\n",
    "plt.xscale('log')\n",
    "plt.title(\"Логистическая регрессия\")\n",
    "plt.xlabel(\"Параметр регуляризации\")\n",
    "plt.ylabel(\"Score\")\n",
    "plt.plot(logr_params['model__C'],logr_model_grid.cv_results_['mean_test_score'])\n",
    "plt.grid(True)\n",
    "\n",
    "print('Наилучшая точность для метода Логистическая регрессия при ngram = (2,2)-',best_accur_ngram2_logr)\n",
    "print('Лучший параметр модели Логистическая регрессия при ngram = (2,2)-',best_param_ngram2_logr)\n",
    "print('Время обучения лучшей модели', best_fit_time_ngram2_logr,'с')\n",
    "print('Время предсказания лучшей модели', best_predict_time_ngram2_logr, 'c')"
   ]
  },
  {
   "cell_type": "markdown",
   "id": "10bdb239-bb5d-4269-9562-9a5be3e41924",
   "metadata": {},
   "source": [
    "Создадим пайплайн для метода Наивный Байес: модель Бернулли и используем GridSearch для определения лучшей модели"
   ]
  },
  {
   "cell_type": "code",
   "execution_count": 44,
   "id": "4bd64700-3f74-4cbc-a682-5ba845a0a542",
   "metadata": {},
   "outputs": [
    {
     "name": "stdout",
     "output_type": "stream",
     "text": [
      "Наилучшая точность для метода Наивный Байес: модель Бернулли при ngram = (2,2)- 0.9186347913351878\n",
      "Лучший параметр модели Наивный Байес: модель Бернулли при ngram = (2,2)- 0.0001\n",
      "Время обучения лучшей модели 0.2501957416534424 с\n",
      "Время предсказания лучшей модели 0.05234390000001099 c\n"
     ]
    },
    {
     "data": {
      "image/png": "[encoded data removed]",
      "text/plain": [
       "<Figure size 500x300 with 1 Axes>"
      ]
     },
     "metadata": {},
     "output_type": "display_data"
    }
   ],
   "source": [
    "pipeline_model_bnb = Pipeline([(\"transformer\", count_vectorizer_2), (\"model\", bnb_model_task3)])\n",
    "bnb_model_grid = GridSearchCV(pipeline_model_bnb, bnb_params, cv=kf, scoring='balanced_accuracy')\n",
    "bnb_model_grid.fit(x_train, y_train);\n",
    "\n",
    "best_accur_ngram2_bnb = max(bnb_model_grid.cv_results_['mean_test_score'])\n",
    "best_param_ngram2_bnb = bnb_params['model__alpha'][np.argmax(bnb_model_grid.cv_results_['mean_test_score'])]\n",
    "best_fit_time_ngram2_bnb = bnb_model_grid.cv_results_['mean_fit_time'][np.argmax(bnb_model_grid.cv_results_['mean_test_score'])]\n",
    "start_fit = time.perf_counter()\n",
    "y_pred = bnb_model_grid.best_estimator_.predict(x_test)\n",
    "end_fit = time.perf_counter()\n",
    "best_predict_time_ngram2_bnb = end_fit - start_fit\n",
    "recall_ngram2_bnb = recall_score(y_test, y_pred, pos_label = 'spam')\n",
    "precision_ngram2_bnb = precision_score(y_test, y_pred, pos_label = 'spam')\n",
    "f1_ngram2_bnb = f1_score(y_test, y_pred, pos_label = 'spam')\n",
    "\n",
    "plt.figure(figsize=[5, 3])\n",
    "plt.xscale('log')\n",
    "plt.title(\"Наивный Байес: модель Бернулли\")\n",
    "plt.xlabel(\"Cглаживающий параметр\")\n",
    "plt.ylabel(\"Score\")\n",
    "plt.plot(bnb_params['model__alpha'],bnb_model_grid.cv_results_['mean_test_score'])\n",
    "plt.grid(True)\n",
    "\n",
    "print('Наилучшая точность для метода Наивный Байес: модель Бернулли при ngram = (2,2)-',best_accur_ngram2_bnb)\n",
    "print('Лучший параметр модели Наивный Байес: модель Бернулли при ngram = (2,2)-',best_param_ngram2_bnb)\n",
    "print('Время обучения лучшей модели', best_fit_time_ngram2_bnb,'с')\n",
    "print('Время предсказания лучшей модели', best_predict_time_ngram2_bnb, 'c')"
   ]
  },
  {
   "cell_type": "markdown",
   "id": "7a281980-49e0-4e24-8099-0b7703906cc4",
   "metadata": {},
   "source": [
    "Создадим пайплайн для метода Наивный Байес: полиномиальная модель и используем GridSearch для определения лучшей модели"
   ]
  },
  {
   "cell_type": "code",
   "execution_count": 45,
   "id": "88a9a7e3-9525-4716-b8e6-90ec37980553",
   "metadata": {},
   "outputs": [
    {
     "name": "stdout",
     "output_type": "stream",
     "text": [
      "Наилучшая точность для метода Наивный Байес: полиномиальная модель при ngram = (1,1)- 0.9339291217032798\n",
      "Лучший параметр модели Наивный Байес: полиномиальная модель при ngram = (1,1)- 0.002682695795279727\n",
      "Время обучения лучшей модели 0.22729480266571045 с\n",
      "Время предсказания лучшей модели 0.06254749999999376 c\n"
     ]
    },
    {
     "data": {
      "image/png": "[encoded data removed]",
      "text/plain": [
       "<Figure size 500x300 with 1 Axes>"
      ]
     },
     "metadata": {},
     "output_type": "display_data"
    }
   ],
   "source": [
    "pipeline_model_mnb = Pipeline([(\"transformer\", tfidf_transformer_2), (\"model\", mnb_model_task3)])\n",
    "mnb_model_grid = GridSearchCV(pipeline_model_mnb, mnb_params, cv=kf, scoring='balanced_accuracy')\n",
    "mnb_model_grid.fit(x_train, y_train);\n",
    "\n",
    "best_accur_ngram2_mnb = max(mnb_model_grid.cv_results_['mean_test_score'])\n",
    "best_param_ngram2_mnb = mnb_params['model__alpha'][np.argmax(mnb_model_grid.cv_results_['mean_test_score'])]\n",
    "best_fit_time_ngram2_mnb = mnb_model_grid.cv_results_['mean_fit_time'][np.argmax(mnb_model_grid.cv_results_['mean_test_score'])]\n",
    "start_fit = time.perf_counter()\n",
    "y_pred = mnb_model_grid.best_estimator_.predict(x_test)\n",
    "end_fit = time.perf_counter()\n",
    "best_predict_time_ngram2_mnb = end_fit - start_fit\n",
    "recall_ngram2_mnb = recall_score(y_test, y_pred, pos_label = 'spam')\n",
    "precision_ngram2_mnb = precision_score(y_test, y_pred, pos_label = 'spam')\n",
    "f1_ngram2_mnb = f1_score(y_test, y_pred, pos_label = 'spam')\n",
    "\n",
    "plt.figure(figsize=[5, 3])\n",
    "plt.xscale('log')\n",
    "plt.title(\"Наивный Байес: полиномиальная модель\")\n",
    "plt.xlabel(\"Cглаживающий параметр\")\n",
    "plt.ylabel(\"Score\")\n",
    "plt.plot(mnb_params['model__alpha'],mnb_model_grid.cv_results_['mean_test_score'])\n",
    "plt.grid(True)\n",
    "\n",
    "print('Наилучшая точность для метода Наивный Байес: полиномиальная модель при ngram = (1,1)-',best_accur_ngram2_mnb)\n",
    "print('Лучший параметр модели Наивный Байес: полиномиальная модель при ngram = (1,1)-',best_param_ngram2_mnb)\n",
    "print('Время обучения лучшей модели', best_fit_time_ngram2_mnb,'с')\n",
    "print('Время предсказания лучшей модели', best_predict_time_ngram2_mnb, 'c')"
   ]
  },
  {
   "cell_type": "markdown",
   "id": "035bb8b4-10b9-4338-8127-52eeb947c303",
   "metadata": {},
   "source": [
    "Определим векторизацию для n-gram = (1,2)"
   ]
  },
  {
   "cell_type": "code",
   "execution_count": 46,
   "id": "1ed6ecba-a12d-47a0-884b-210c431d9887",
   "metadata": {},
   "outputs": [],
   "source": [
    "tfidf_transformer_12 = TfidfVectorizer(lowercase=True, use_idf=True, \n",
    "                                    ngram_range=(1,2), smooth_idf=False)\n",
    "count_vectorizer_12 = CountVectorizer(analyzer=\"word\", ngram_range=(1,2),\n",
    "                                   lowercase=True, binary=True)"
   ]
  },
  {
   "cell_type": "markdown",
   "id": "117eca52-b5b6-49a1-a0f5-fef3753313ae",
   "metadata": {},
   "source": [
    "Создадим пайплайн для метода К-ближайших соседей(KNeighbors) и используем GridSearch для определения лучшей модели"
   ]
  },
  {
   "cell_type": "code",
   "execution_count": 47,
   "id": "c51b0e06-942d-46e5-b3d3-9032f4d31b19",
   "metadata": {},
   "outputs": [
    {
     "name": "stdout",
     "output_type": "stream",
     "text": [
      "Наилучшая точность для метода К-ближайших соседей при ngram = (1,2)- 0.8709749123659903\n",
      "Лучший параметр модели К-ближайших соседей при ngram = (1,2)- 21\n",
      "Время обучения лучшей модели 0.2921826243400574 с\n",
      "Время предсказания лучшей модели 0.210899100000006 c\n"
     ]
    },
    {
     "data": {
      "image/png": "[encoded data removed]",
      "text/plain": [
       "<Figure size 500x300 with 1 Axes>"
      ]
     },
     "metadata": {},
     "output_type": "display_data"
    }
   ],
   "source": [
    "pipeline_model_knc = Pipeline([(\"transformer\", tfidf_transformer_12), (\"model\", knc_model_task3)])\n",
    "knc_model_grid = GridSearchCV(pipeline_model_knc, knc_params, cv=kf, scoring='balanced_accuracy')\n",
    "knc_model_grid.fit(x_train, y_train);\n",
    "\n",
    "best_accur_ngram12_knc = max(knc_model_grid.cv_results_['mean_test_score'])\n",
    "best_param_ngram12_knc = knc_params['model__n_neighbors'][np.argmax(knc_model_grid.cv_results_['mean_test_score'])]\n",
    "best_fit_time_ngram12_knc = knc_model_grid.cv_results_['mean_fit_time'][np.argmax(knc_model_grid.cv_results_['mean_test_score'])]\n",
    "start_fit = time.perf_counter()\n",
    "y_pred = knc_model_grid.best_estimator_.predict(x_test)\n",
    "end_fit = time.perf_counter()\n",
    "best_predict_time_ngram12_knc = end_fit - start_fit\n",
    "recall_ngram12_knc = recall_score(y_test, y_pred, pos_label = 'spam')\n",
    "precision_ngram12_knc = precision_score(y_test, y_pred, pos_label = 'spam')\n",
    "f1_ngram12_knc = f1_score(y_test, y_pred, pos_label = 'spam')\n",
    "\n",
    "plt.figure(figsize=[5, 3])\n",
    "plt.title(\"К-ближайших соседей\")\n",
    "plt.xlabel(\"Количество соседей\")\n",
    "plt.ylabel(\"Score\")\n",
    "plt.plot(knc_params['model__n_neighbors'],knc_model_grid.cv_results_['mean_test_score'])\n",
    "plt.grid(True)\n",
    "\n",
    "print('Наилучшая точность для метода К-ближайших соседей при ngram = (1,2)-',best_accur_ngram12_knc)\n",
    "print('Лучший параметр модели К-ближайших соседей при ngram = (1,2)-',best_param_ngram12_knc)\n",
    "print('Время обучения лучшей модели', best_fit_time_ngram12_knc,'с')\n",
    "print('Время предсказания лучшей модели', best_predict_time_ngram12_knc, 'c')"
   ]
  },
  {
   "cell_type": "markdown",
   "id": "e996737f-37e7-4f6a-b100-0db67a9b1be3",
   "metadata": {},
   "source": [
    "Создадим пайплайн для метода Логистическая регрессия и используем GridSearch для определения лучшей модели"
   ]
  },
  {
   "cell_type": "code",
   "execution_count": 48,
   "id": "d5126526-5717-4580-ad8f-f960464d0d79",
   "metadata": {},
   "outputs": [
    {
     "name": "stdout",
     "output_type": "stream",
     "text": [
      "Наилучшая точность для метода Логистическая регрессия при ngram = (1,2)- 0.9658444413903238\n",
      "Лучший параметр модели Логистическая регрессия при ngram = (1,2)- 193069772.88832456\n",
      "Время обучения лучшей модели 0.4090237021446228 с\n",
      "Время предсказания лучшей модели 0.040584300000006124 c\n"
     ]
    },
    {
     "data": {
      "image/png": "[encoded data removed]",
      "text/plain": [
       "<Figure size 500x300 with 1 Axes>"
      ]
     },
     "metadata": {},
     "output_type": "display_data"
    }
   ],
   "source": [
    "pipeline_model_logr = Pipeline([(\"transformer\", tfidf_transformer_12), (\"model\", logr_model_task3)])\n",
    "logr_model_grid = GridSearchCV(pipeline_model_logr, logr_params, cv=kf, scoring='balanced_accuracy')\n",
    "logr_model_grid.fit(x_train, y_train);\n",
    "\n",
    "best_accur_ngram12_logr = max(logr_model_grid.cv_results_['mean_test_score'])\n",
    "best_param_ngram12_logr = logr_params['model__C'][np.argmax(logr_model_grid.cv_results_['mean_test_score'])]\n",
    "best_fit_time_ngram12_logr = logr_model_grid.cv_results_['mean_fit_time'][np.argmax(logr_model_grid.cv_results_['mean_test_score'])]\n",
    "start_fit = time.perf_counter()\n",
    "y_pred = logr_model_grid.best_estimator_.predict(x_test)\n",
    "end_fit = time.perf_counter()\n",
    "best_predict_time_ngram12_logr = end_fit - start_fit\n",
    "recall_ngram12_logr = recall_score(y_test, y_pred, pos_label = 'spam')\n",
    "precision_ngram12_logr = precision_score(y_test, y_pred, pos_label = 'spam')\n",
    "f1_ngram12_logr = f1_score(y_test, y_pred, pos_label = 'spam')\n",
    "\n",
    "plt.figure(figsize=[5, 3])\n",
    "plt.xscale('log')\n",
    "plt.title(\"Логистическая регрессия\")\n",
    "plt.xlabel(\"Параметр регуляризации\")\n",
    "plt.ylabel(\"Score\")\n",
    "plt.plot(logr_params['model__C'],logr_model_grid.cv_results_['mean_test_score'])\n",
    "plt.grid(True)\n",
    "\n",
    "print('Наилучшая точность для метода Логистическая регрессия при ngram = (1,2)-',best_accur_ngram12_logr)\n",
    "print('Лучший параметр модели Логистическая регрессия при ngram = (1,2)-',best_param_ngram12_logr)\n",
    "print('Время обучения лучшей модели', best_fit_time_ngram12_logr,'с')\n",
    "print('Время предсказания лучшей модели', best_predict_time_ngram12_logr, 'c')"
   ]
  },
  {
   "cell_type": "markdown",
   "id": "f32f1581-dfef-4314-b8ab-08c88a518d70",
   "metadata": {},
   "source": [
    "Создадим пайплайн для метода Наивный Байес: модель Бернулли и используем GridSearch для определения лучшей модели"
   ]
  },
  {
   "cell_type": "code",
   "execution_count": 49,
   "id": "2009f60e-341e-495a-9649-4a22d3dfbf06",
   "metadata": {},
   "outputs": [
    {
     "name": "stdout",
     "output_type": "stream",
     "text": [
      "Наилучшая точность для метода Наивный Байес: модель Бернулли при ngram = (1,2)- 0.949719542739526\n",
      "Лучший параметр модели Наивный Байес: модель Бернулли при ngram = (1,2)- 0.0005179474679231213\n",
      "Время обучения лучшей модели 0.15986448526382446 с\n",
      "Время предсказания лучшей модели 0.04541679999999815 c\n"
     ]
    },
    {
     "data": {
      "image/png": "[encoded data removed]",
      "text/plain": [
       "<Figure size 500x300 with 1 Axes>"
      ]
     },
     "metadata": {},
     "output_type": "display_data"
    }
   ],
   "source": [
    "pipeline_model_bnb = Pipeline([(\"transformer\", count_vectorizer_12), (\"model\", bnb_model_task3)])\n",
    "bnb_model_grid = GridSearchCV(pipeline_model_bnb, bnb_params, cv=kf, scoring='balanced_accuracy')\n",
    "bnb_model_grid.fit(x_train, y_train);\n",
    "\n",
    "best_accur_ngram12_bnb = max(bnb_model_grid.cv_results_['mean_test_score'])\n",
    "best_param_ngram12_bnb = bnb_params['model__alpha'][np.argmax(bnb_model_grid.cv_results_['mean_test_score'])]\n",
    "best_fit_time_ngram12_bnb = bnb_model_grid.cv_results_['mean_fit_time'][np.argmax(bnb_model_grid.cv_results_['mean_test_score'])]\n",
    "start_fit = time.perf_counter()\n",
    "y_pred = bnb_model_grid.best_estimator_.predict(x_test)\n",
    "end_fit = time.perf_counter()\n",
    "best_predict_time_ngram12_bnb = end_fit - start_fit\n",
    "recall_ngram12_bnb = recall_score(y_test, y_pred, pos_label = 'spam')\n",
    "precision_ngram12_bnb = precision_score(y_test, y_pred, pos_label = 'spam')\n",
    "f1_ngram12_bnb = f1_score(y_test, y_pred, pos_label = 'spam')\n",
    "\n",
    "plt.figure(figsize=[5, 3])\n",
    "plt.xscale('log')\n",
    "plt.title(\"Наивный Байес: модель Бернулли\")\n",
    "plt.xlabel(\"Cглаживающий параметр\")\n",
    "plt.ylabel(\"Score\")\n",
    "plt.plot(bnb_params['model__alpha'],bnb_model_grid.cv_results_['mean_test_score'])\n",
    "plt.grid(True)\n",
    "\n",
    "print('Наилучшая точность для метода Наивный Байес: модель Бернулли при ngram = (1,2)-',best_accur_ngram12_bnb)\n",
    "print('Лучший параметр модели Наивный Байес: модель Бернулли при ngram = (1,2)-',best_param_ngram12_bnb)\n",
    "print('Время обучения лучшей модели', best_fit_time_ngram12_bnb,'с')\n",
    "print('Время предсказания лучшей модели', best_predict_time_ngram12_bnb, 'c')"
   ]
  },
  {
   "cell_type": "markdown",
   "id": "3990196f-d04f-4207-828a-32316caa6294",
   "metadata": {},
   "source": [
    "Создадим пайплайн для метода Наивный Байес: полиномиальная модель и используем GridSearch для определения лучшей модели"
   ]
  },
  {
   "cell_type": "code",
   "execution_count": 50,
   "id": "8433bbca-c516-4583-b02a-629eb08d881e",
   "metadata": {},
   "outputs": [
    {
     "name": "stdout",
     "output_type": "stream",
     "text": [
      "Наилучшая точность для метода Наивный Байес: полиномиальная модель при ngram = (1,2)- 0.9571326764547252\n",
      "Лучший параметр модели Наивный Байес: полиномиальная модель при ngram = (1,2)- 0.013894954943731374\n",
      "Время обучения лучшей модели 0.19231665134429932 с\n",
      "Время предсказания лучшей модели 0.044402700000006234 c\n"
     ]
    },
    {
     "data": {
      "image/png": "[encoded data removed]",
      "text/plain": [
       "<Figure size 500x300 with 1 Axes>"
      ]
     },
     "metadata": {},
     "output_type": "display_data"
    }
   ],
   "source": [
    "pipeline_model_mnb = Pipeline([(\"transformer\", tfidf_transformer_12), (\"model\", mnb_model_task3)])\n",
    "mnb_model_grid = GridSearchCV(pipeline_model_mnb, mnb_params, cv=kf, scoring='balanced_accuracy')\n",
    "mnb_model_grid.fit(x_train, y_train);\n",
    "\n",
    "best_accur_ngram12_mnb = max(mnb_model_grid.cv_results_['mean_test_score'])\n",
    "best_param_ngram12_mnb = mnb_params['model__alpha'][np.argmax(mnb_model_grid.cv_results_['mean_test_score'])]\n",
    "best_fit_time_ngram12_mnb = mnb_model_grid.cv_results_['mean_fit_time'][np.argmax(mnb_model_grid.cv_results_['mean_test_score'])]\n",
    "start_fit = time.perf_counter()\n",
    "y_pred = mnb_model_grid.best_estimator_.predict(x_test)\n",
    "end_fit = time.perf_counter()\n",
    "best_predict_time_ngram12_mnb = end_fit - start_fit\n",
    "recall_ngram12_mnb = recall_score(y_test, y_pred, pos_label = 'spam')\n",
    "precision_ngram12_mnb = precision_score(y_test, y_pred, pos_label = 'spam')\n",
    "f1_ngram12_mnb = f1_score(y_test, y_pred, pos_label = 'spam')\n",
    "\n",
    "plt.figure(figsize=[5, 3])\n",
    "plt.xscale('log')\n",
    "plt.title(\"Наивный Байес: полиномиальная модель\")\n",
    "plt.xlabel(\"Cглаживающий параметр\")\n",
    "plt.ylabel(\"Score\")\n",
    "plt.plot(mnb_params['model__alpha'],mnb_model_grid.cv_results_['mean_test_score'])\n",
    "plt.grid(True)\n",
    "\n",
    "print('Наилучшая точность для метода Наивный Байес: полиномиальная модель при ngram = (1,2)-',best_accur_ngram12_mnb)\n",
    "print('Лучший параметр модели Наивный Байес: полиномиальная модель при ngram = (1,2)-',best_param_ngram12_mnb)\n",
    "print('Время обучения лучшей модели', best_fit_time_ngram12_mnb,'с')\n",
    "print('Время предсказания лучшей модели', best_predict_time_ngram12_mnb, 'c')"
   ]
  },
  {
   "cell_type": "code",
   "execution_count": 51,
   "id": "3f1be70a-095d-4286-b63e-558bba06d16d",
   "metadata": {},
   "outputs": [],
   "source": [
    "table_data_task3 = {'Значение параметра модели': [best_param_ngram1_knc, best_param_ngram1_logr, best_param_ngram1_bnb, best_param_ngram1_mnb, \n",
    "                                                  best_param_ngram2_knc, best_param_ngram2_logr, best_param_ngram2_bnb, best_param_ngram2_mnb,\n",
    "                                                  best_param_ngram12_knc, best_param_ngram12_logr, best_param_ngram12_bnb, best_param_ngram2_mnb], \n",
    "              'Время обучения, с': [best_fit_time_ngram1_knc, best_fit_time_ngram1_logr, best_fit_time_ngram1_bnb, best_fit_time_ngram1_mnb,\n",
    "                                    best_fit_time_ngram2_knc, best_fit_time_ngram2_logr, best_fit_time_ngram2_bnb, best_fit_time_ngram2_mnb,\n",
    "                                    best_fit_time_ngram12_knc, best_fit_time_ngram12_logr, best_fit_time_ngram12_bnb, best_fit_time_ngram12_mnb],\n",
    "              'Время предсказания, c': [best_predict_time_ngram1_knc, best_predict_time_ngram1_logr, best_predict_time_ngram1_bnb, best_predict_time_ngram1_mnb,\n",
    "                                        best_predict_time_ngram2_knc, best_predict_time_ngram2_logr, best_predict_time_ngram2_bnb, best_predict_time_ngram2_mnb,\n",
    "                                        best_predict_time_ngram12_knc, best_predict_time_ngram12_logr, best_predict_time_ngram12_bnb, best_predict_time_ngram12_mnb],\n",
    "              'Balanced accuracy score': [best_accur_ngram1_knc, best_accur_ngram1_logr, best_accur_ngram1_bnb, best_accur_ngram1_mnb,\n",
    "                                          best_accur_ngram2_knc, best_accur_ngram2_logr, best_accur_ngram2_bnb, best_accur_ngram2_mnb,\n",
    "                                          best_accur_ngram12_knc, best_accur_ngram12_logr, best_accur_ngram12_bnb, best_accur_ngram12_mnb], \n",
    "              'Recall score': [recall_ngram1_knc, recall_ngram1_logr, recall_ngram1_bnb, recall_ngram1_mnb,\n",
    "                               recall_ngram2_knc, recall_ngram2_logr, recall_ngram2_bnb, recall_ngram2_mnb,\n",
    "                               recall_ngram12_knc, recall_ngram12_logr, recall_ngram12_bnb, recall_ngram12_mnb],\n",
    "              'Precision score': [precision_ngram1_knc, precision_ngram1_logr, precision_ngram1_bnb, precision_ngram1_mnb,\n",
    "                                  precision_ngram2_knc, precision_ngram2_logr, precision_ngram2_bnb, precision_ngram2_mnb,\n",
    "                                  precision_ngram12_knc, precision_ngram12_logr, precision_ngram12_bnb, precision_ngram12_mnb],\n",
    "              'F1 score': [f1_ngram1_knc, f1_ngram1_logr, f1_ngram1_bnb, f1_ngram1_mnb,\n",
    "                           f1_ngram2_knc, f1_ngram2_logr, f1_ngram2_bnb, f1_ngram2_mnb,\n",
    "                           f1_ngram12_knc, f1_ngram12_logr, f1_ngram12_bnb, f1_ngram12_mnb]}\n",
    "indexes = ['К-ближайших соседей(KNeighbors) N-gram = 1', 'Логистическая регрессия N-gram = 1', 'Наивный Байес: модель Бернулли N-gram = 1', \n",
    "           'Наивный Байес: полиномиальная модель N-gram = 1', 'К-ближайших соседей(KNeighbors) N-gram = 2', 'Логистическая регрессия N-gram = 2', \n",
    "           'Наивный Байес: модель Бернулли N-gram = 2', 'Наивный Байес: полиномиальная модель N-gram = 2', \n",
    "           'К-ближайших соседей(KNeighbors) N-gram = (1,2)', 'Логистическая регрессия N-gram = (1,2)', \n",
    "           'Наивный Байес: модель Бернулли N-gram = (1,2)', 'Наивный Байес: полиномиальная модель N-gram = (1,2)' ]\n",
    "df_table_task3 = pd.DataFrame(data=table_data_task3, index = indexes)"
   ]
  },
  {
   "cell_type": "code",
   "execution_count": 52,
   "id": "fafb05e5-c651-4b0d-9087-109d2bf35611",
   "metadata": {},
   "outputs": [
    {
     "data": {
      "text/html": [
       "<div>\n",
       "<style scoped>\n",
       "    .dataframe tbody tr th:only-of-type {\n",
       "        vertical-align: middle;\n",
       "    }\n",
       "\n",
       "    .dataframe tbody tr th {\n",
       "        vertical-align: top;\n",
       "    }\n",
       "\n",
       "    .dataframe thead th {\n",
       "        text-align: right;\n",
       "    }\n",
       "</style>\n",
       "<table border=\"1\" class=\"dataframe\">\n",
       "  <thead>\n",
       "    <tr style=\"text-align: right;\">\n",
       "      <th></th>\n",
       "      <th>Значение параметра модели</th>\n",
       "      <th>Время обучения, с</th>\n",
       "      <th>Время предсказания, c</th>\n",
       "      <th>Balanced accuracy score</th>\n",
       "      <th>Recall score</th>\n",
       "      <th>Precision score</th>\n",
       "      <th>F1 score</th>\n",
       "    </tr>\n",
       "  </thead>\n",
       "  <tbody>\n",
       "    <tr>\n",
       "      <th>К-ближайших соседей(KNeighbors) N-gram = 1</th>\n",
       "      <td>2.100000e+01</td>\n",
       "      <td>0.109675</td>\n",
       "      <td>0.431324</td>\n",
       "      <td>0.851780</td>\n",
       "      <td>0.652406</td>\n",
       "      <td>0.983871</td>\n",
       "      <td>0.784566</td>\n",
       "    </tr>\n",
       "    <tr>\n",
       "      <th>Логистическая регрессия N-gram = 1</th>\n",
       "      <td>1.930698e+08</td>\n",
       "      <td>0.197760</td>\n",
       "      <td>0.036481</td>\n",
       "      <td>0.955390</td>\n",
       "      <td>0.925134</td>\n",
       "      <td>0.961111</td>\n",
       "      <td>0.942779</td>\n",
       "    </tr>\n",
       "    <tr>\n",
       "      <th>Наивный Байес: модель Бернулли N-gram = 1</th>\n",
       "      <td>7.196857e-02</td>\n",
       "      <td>0.110737</td>\n",
       "      <td>0.043831</td>\n",
       "      <td>0.959861</td>\n",
       "      <td>0.898396</td>\n",
       "      <td>1.000000</td>\n",
       "      <td>0.946479</td>\n",
       "    </tr>\n",
       "    <tr>\n",
       "      <th>Наивный Байес: полиномиальная модель N-gram = 1</th>\n",
       "      <td>1.389495e-02</td>\n",
       "      <td>0.121260</td>\n",
       "      <td>0.040292</td>\n",
       "      <td>0.951289</td>\n",
       "      <td>0.898396</td>\n",
       "      <td>0.988235</td>\n",
       "      <td>0.941176</td>\n",
       "    </tr>\n",
       "    <tr>\n",
       "      <th>К-ближайших соседей(KNeighbors) N-gram = 2</th>\n",
       "      <td>1.000000e+00</td>\n",
       "      <td>0.264122</td>\n",
       "      <td>0.232638</td>\n",
       "      <td>0.747721</td>\n",
       "      <td>0.588235</td>\n",
       "      <td>1.000000</td>\n",
       "      <td>0.740741</td>\n",
       "    </tr>\n",
       "    <tr>\n",
       "      <th>Логистическая регрессия N-gram = 2</th>\n",
       "      <td>1.930698e+08</td>\n",
       "      <td>0.621678</td>\n",
       "      <td>0.050982</td>\n",
       "      <td>0.930839</td>\n",
       "      <td>0.935829</td>\n",
       "      <td>0.764192</td>\n",
       "      <td>0.841346</td>\n",
       "    </tr>\n",
       "    <tr>\n",
       "      <th>Наивный Байес: модель Бернулли N-gram = 2</th>\n",
       "      <td>1.000000e-04</td>\n",
       "      <td>0.250196</td>\n",
       "      <td>0.052344</td>\n",
       "      <td>0.918635</td>\n",
       "      <td>0.898396</td>\n",
       "      <td>0.965517</td>\n",
       "      <td>0.930748</td>\n",
       "    </tr>\n",
       "    <tr>\n",
       "      <th>Наивный Байес: полиномиальная модель N-gram = 2</th>\n",
       "      <td>2.682696e-03</td>\n",
       "      <td>0.227295</td>\n",
       "      <td>0.062547</td>\n",
       "      <td>0.933929</td>\n",
       "      <td>0.909091</td>\n",
       "      <td>0.939227</td>\n",
       "      <td>0.923913</td>\n",
       "    </tr>\n",
       "    <tr>\n",
       "      <th>К-ближайших соседей(KNeighbors) N-gram = (1,2)</th>\n",
       "      <td>2.100000e+01</td>\n",
       "      <td>0.292183</td>\n",
       "      <td>0.210899</td>\n",
       "      <td>0.870975</td>\n",
       "      <td>0.663102</td>\n",
       "      <td>0.968750</td>\n",
       "      <td>0.787302</td>\n",
       "    </tr>\n",
       "    <tr>\n",
       "      <th>Логистическая регрессия N-gram = (1,2)</th>\n",
       "      <td>1.930698e+08</td>\n",
       "      <td>0.409024</td>\n",
       "      <td>0.040584</td>\n",
       "      <td>0.965844</td>\n",
       "      <td>0.941176</td>\n",
       "      <td>0.931217</td>\n",
       "      <td>0.936170</td>\n",
       "    </tr>\n",
       "    <tr>\n",
       "      <th>Наивный Байес: модель Бернулли N-gram = (1,2)</th>\n",
       "      <td>5.179475e-04</td>\n",
       "      <td>0.159864</td>\n",
       "      <td>0.045417</td>\n",
       "      <td>0.949720</td>\n",
       "      <td>0.914439</td>\n",
       "      <td>1.000000</td>\n",
       "      <td>0.955307</td>\n",
       "    </tr>\n",
       "    <tr>\n",
       "      <th>Наивный Байес: полиномиальная модель N-gram = (1,2)</th>\n",
       "      <td>2.682696e-03</td>\n",
       "      <td>0.192317</td>\n",
       "      <td>0.044403</td>\n",
       "      <td>0.957133</td>\n",
       "      <td>0.941176</td>\n",
       "      <td>0.983240</td>\n",
       "      <td>0.961749</td>\n",
       "    </tr>\n",
       "  </tbody>\n",
       "</table>\n",
       "</div>"
      ],
      "text/plain": [
       "                                                    Значение параметра модели  \\\n",
       "К-ближайших соседей(KNeighbors) N-gram = 1                       2.100000e+01   \n",
       "Логистическая регрессия N-gram = 1                               1.930698e+08   \n",
       "Наивный Байес: модель Бернулли N-gram = 1                        7.196857e-02   \n",
       "Наивный Байес: полиномиальная модель N-gram = 1                  1.389495e-02   \n",
       "К-ближайших соседей(KNeighbors) N-gram = 2                       1.000000e+00   \n",
       "Логистическая регрессия N-gram = 2                               1.930698e+08   \n",
       "Наивный Байес: модель Бернулли N-gram = 2                        1.000000e-04   \n",
       "Наивный Байес: полиномиальная модель N-gram = 2                  2.682696e-03   \n",
       "К-ближайших соседей(KNeighbors) N-gram = (1,2)                   2.100000e+01   \n",
       "Логистическая регрессия N-gram = (1,2)                           1.930698e+08   \n",
       "Наивный Байес: модель Бернулли N-gram = (1,2)                    5.179475e-04   \n",
       "Наивный Байес: полиномиальная модель N-gram = (...               2.682696e-03   \n",
       "\n",
       "                                                    Время обучения, с  \\\n",
       "К-ближайших соседей(KNeighbors) N-gram = 1                   0.109675   \n",
       "Логистическая регрессия N-gram = 1                           0.197760   \n",
       "Наивный Байес: модель Бернулли N-gram = 1                    0.110737   \n",
       "Наивный Байес: полиномиальная модель N-gram = 1              0.121260   \n",
       "К-ближайших соседей(KNeighbors) N-gram = 2                   0.264122   \n",
       "Логистическая регрессия N-gram = 2                           0.621678   \n",
       "Наивный Байес: модель Бернулли N-gram = 2                    0.250196   \n",
       "Наивный Байес: полиномиальная модель N-gram = 2              0.227295   \n",
       "К-ближайших соседей(KNeighbors) N-gram = (1,2)               0.292183   \n",
       "Логистическая регрессия N-gram = (1,2)                       0.409024   \n",
       "Наивный Байес: модель Бернулли N-gram = (1,2)                0.159864   \n",
       "Наивный Байес: полиномиальная модель N-gram = (...           0.192317   \n",
       "\n",
       "                                                    Время предсказания, c  \\\n",
       "К-ближайших соседей(KNeighbors) N-gram = 1                       0.431324   \n",
       "Логистическая регрессия N-gram = 1                               0.036481   \n",
       "Наивный Байес: модель Бернулли N-gram = 1                        0.043831   \n",
       "Наивный Байес: полиномиальная модель N-gram = 1                  0.040292   \n",
       "К-ближайших соседей(KNeighbors) N-gram = 2                       0.232638   \n",
       "Логистическая регрессия N-gram = 2                               0.050982   \n",
       "Наивный Байес: модель Бернулли N-gram = 2                        0.052344   \n",
       "Наивный Байес: полиномиальная модель N-gram = 2                  0.062547   \n",
       "К-ближайших соседей(KNeighbors) N-gram = (1,2)                   0.210899   \n",
       "Логистическая регрессия N-gram = (1,2)                           0.040584   \n",
       "Наивный Байес: модель Бернулли N-gram = (1,2)                    0.045417   \n",
       "Наивный Байес: полиномиальная модель N-gram = (...               0.044403   \n",
       "\n",
       "                                                    Balanced accuracy score  \\\n",
       "К-ближайших соседей(KNeighbors) N-gram = 1                         0.851780   \n",
       "Логистическая регрессия N-gram = 1                                 0.955390   \n",
       "Наивный Байес: модель Бернулли N-gram = 1                          0.959861   \n",
       "Наивный Байес: полиномиальная модель N-gram = 1                    0.951289   \n",
       "К-ближайших соседей(KNeighbors) N-gram = 2                         0.747721   \n",
       "Логистическая регрессия N-gram = 2                                 0.930839   \n",
       "Наивный Байес: модель Бернулли N-gram = 2                          0.918635   \n",
       "Наивный Байес: полиномиальная модель N-gram = 2                    0.933929   \n",
       "К-ближайших соседей(KNeighbors) N-gram = (1,2)                     0.870975   \n",
       "Логистическая регрессия N-gram = (1,2)                             0.965844   \n",
       "Наивный Байес: модель Бернулли N-gram = (1,2)                      0.949720   \n",
       "Наивный Байес: полиномиальная модель N-gram = (...                 0.957133   \n",
       "\n",
       "                                                    Recall score  \\\n",
       "К-ближайших соседей(KNeighbors) N-gram = 1              0.652406   \n",
       "Логистическая регрессия N-gram = 1                      0.925134   \n",
       "Наивный Байес: модель Бернулли N-gram = 1               0.898396   \n",
       "Наивный Байес: полиномиальная модель N-gram = 1         0.898396   \n",
       "К-ближайших соседей(KNeighbors) N-gram = 2              0.588235   \n",
       "Логистическая регрессия N-gram = 2                      0.935829   \n",
       "Наивный Байес: модель Бернулли N-gram = 2               0.898396   \n",
       "Наивный Байес: полиномиальная модель N-gram = 2         0.909091   \n",
       "К-ближайших соседей(KNeighbors) N-gram = (1,2)          0.663102   \n",
       "Логистическая регрессия N-gram = (1,2)                  0.941176   \n",
       "Наивный Байес: модель Бернулли N-gram = (1,2)           0.914439   \n",
       "Наивный Байес: полиномиальная модель N-gram = (...      0.941176   \n",
       "\n",
       "                                                    Precision score  F1 score  \n",
       "К-ближайших соседей(KNeighbors) N-gram = 1                 0.983871  0.784566  \n",
       "Логистическая регрессия N-gram = 1                         0.961111  0.942779  \n",
       "Наивный Байес: модель Бернулли N-gram = 1                  1.000000  0.946479  \n",
       "Наивный Байес: полиномиальная модель N-gram = 1            0.988235  0.941176  \n",
       "К-ближайших соседей(KNeighbors) N-gram = 2                 1.000000  0.740741  \n",
       "Логистическая регрессия N-gram = 2                         0.764192  0.841346  \n",
       "Наивный Байес: модель Бернулли N-gram = 2                  0.965517  0.930748  \n",
       "Наивный Байес: полиномиальная модель N-gram = 2            0.939227  0.923913  \n",
       "К-ближайших соседей(KNeighbors) N-gram = (1,2)             0.968750  0.787302  \n",
       "Логистическая регрессия N-gram = (1,2)                     0.931217  0.936170  \n",
       "Наивный Байес: модель Бернулли N-gram = (1,2)              1.000000  0.955307  \n",
       "Наивный Байес: полиномиальная модель N-gram = (...         0.983240  0.961749  "
      ]
     },
     "metadata": {},
     "output_type": "display_data"
    }
   ],
   "source": [
    "display(df_table_task3)"
   ]
  },
  {
   "cell_type": "markdown",
   "id": "5e92c2c3-da9b-41b2-b977-0e5d7f901f2d",
   "metadata": {},
   "source": [
    "Выводы:\n",
    " Дольше всего обучается и предсказывает модель логистической регрессии, самое долгое предсказание у модели K-ближайших соседей. Почти все модели кроме K-ближних соседей предсказывают быстрее чем обучаются. Самое быстрое предсказание - у модели Бернулли. Видно, что при ngram = 2  - точность всех моделей ниже по сравнению с ngram = 1, а при ngram = (1,2) выше чем при ngram = 1, таким образом, наилучшая точность при ngram = (1,2). При всех значения ngram видно, что наилучшая точнсть у моделей Наивный Байес, а также лог. регрессии, модель K-ближайших соседей отличается в худшую сторону, показывая наименьшую точность по всем метрикам по сравнению с другими."
   ]
  },
  {
   "cell_type": "markdown",
   "id": "5b62140b",
   "metadata": {},
   "source": [
    "## Задание 4. Оценка влияния количества признаков FeatureHasher на качество классификации"
   ]
  },
  {
   "cell_type": "markdown",
   "id": "4c3aa6fc",
   "metadata": {},
   "source": [
    "\n",
    "Как будет меняться качество классификации для обозначенных ранее методов при использовании `FeatureHasher` (или `HashingVectorizer`) из пакета `sklearn` перед TF-IDF преобразованием.\n",
    "\n",
    "Количество признаков: `np.logspace(1, 5, 5, base=10)`"
   ]
  },
  {
   "cell_type": "code",
   "execution_count": 53,
   "id": "86f4bdbf",
   "metadata": {},
   "outputs": [],
   "source": [
    "knc_model_task4 = KNeighborsClassifier(n_neighbors = best_param_ngram1_knc)\n",
    "logr_model_task4 = LogisticRegression(penalty=\"l2\", fit_intercept=True, max_iter=100,\n",
    "                                solver=\"lbfgs\", random_state=123, C = best_param_ngram1_logr)\n",
    "bnb_model_task4 = BernoulliNB(binarize=None, alpha = best_param_ngram1_bnb)\n",
    "mnb_model_task4 = MultinomialNB(alpha = best_param_ngram1_mnb)"
   ]
  },
  {
   "cell_type": "code",
   "execution_count": 54,
   "id": "f7ba73da",
   "metadata": {},
   "outputs": [],
   "source": [
    "tfidf_transformer_task4 = TfidfVectorizer(use_idf=True, \n",
    "                                    ngram_range=(1,1), smooth_idf=False)\n",
    "count_vectorizer_task4 = CountVectorizer(analyzer=\"word\", ngram_range=(1,1),\n",
    "                                   lowercase=True, binary=True)\n",
    "hv_transformer = HashingVectorizer(alternate_sign=False, norm=None)"
   ]
  },
  {
   "cell_type": "code",
   "execution_count": 55,
   "id": "f72a3c85",
   "metadata": {},
   "outputs": [
    {
     "name": "stdout",
     "output_type": "stream",
     "text": [
      "dict_keys(['alternate_sign', 'analyzer', 'binary', 'decode_error', 'dtype', 'encoding', 'input', 'lowercase', 'n_features', 'ngram_range', 'norm', 'preprocessor', 'stop_words', 'strip_accents', 'token_pattern', 'tokenizer']) - ключи FeatureHasher\n"
     ]
    }
   ],
   "source": [
    "print(hv_transformer.get_params().keys(), '- ключи FeatureHasher') \n",
    "# для дальнейшего использования gridsearch\n",
    "hv_params = {\"transformer_hv__n_features\": np.logspace(1, 5, 5, base=10).astype(int)} \n",
    "#astype для того чтобы сделать int, т.к. ключ n_features принимает только int тип данных"
   ]
  },
  {
   "cell_type": "markdown",
   "id": "dd9040b7",
   "metadata": {},
   "source": [
    "Создадим пайплайн для метода К-ближайших соседей(KNeighbors) и используем GridSearch для определения лучшей модели"
   ]
  },
  {
   "cell_type": "markdown",
   "id": "0ad1c2f7",
   "metadata": {},
   "source": [
    "Из условия - \"перед TF-IDF преобразованием\", не совсем понятно как последовательно сделать две векторизации, после поиска в интернете решаю использовать **вместо** TF-IDF преобразования - HashingVectorizer"
   ]
  },
  {
   "cell_type": "code",
   "execution_count": 56,
   "id": "0e6485d0",
   "metadata": {},
   "outputs": [
    {
     "name": "stdout",
     "output_type": "stream",
     "text": [
      "Наилучшая точность для метода К-ближайших соседей 0.6830304004961841\n",
      "Лучший параметр количества признаков для модели К-ближайших соседей 10\n",
      "Время обучения лучшей модели 0.053739845752716064 с\n",
      "Время предсказания лучшей модели 0.40886250000002633 c\n"
     ]
    },
    {
     "data": {
      "image/png": "[encoded data removed]",
      "text/plain": [
       "<Figure size 500x300 with 1 Axes>"
      ]
     },
     "metadata": {},
     "output_type": "display_data"
    }
   ],
   "source": [
    "pipeline_model_knc = Pipeline([(\"transformer_hv\", hv_transformer), (\"model\", knc_model_task4)])\n",
    "\n",
    "knc_model_grid = GridSearchCV(pipeline_model_knc, hv_params, cv=kf, scoring='balanced_accuracy')\n",
    "knc_model_grid.fit(x_train, y_train);\n",
    "\n",
    "best_accur_knc = max(knc_model_grid.cv_results_['mean_test_score'])\n",
    "best_param_knc = hv_params['transformer_hv__n_features'][np.argmax(knc_model_grid.cv_results_['mean_test_score'])]\n",
    "best_fit_time_knc = knc_model_grid.cv_results_['mean_fit_time'][np.argmax(knc_model_grid.cv_results_['mean_test_score'])]\n",
    "start_fit = time.perf_counter()\n",
    "y_pred = knc_model_grid.best_estimator_.predict(x_test)\n",
    "end_fit = time.perf_counter()\n",
    "best_predict_time_knc = end_fit - start_fit\n",
    "recall_knc = recall_score(y_test, y_pred, pos_label = 'spam')\n",
    "precision_knc = precision_score(y_test, y_pred, pos_label = 'spam')\n",
    "f1_knc = f1_score(y_test, y_pred, pos_label = 'spam')\n",
    "\n",
    "plt.figure(figsize=[5, 3])\n",
    "plt.title(\"К-ближайших соседей\")\n",
    "plt.xlabel(\"Количество признаков\")\n",
    "plt.ylabel(\"Score\")\n",
    "plt.plot(hv_params['transformer_hv__n_features'],knc_model_grid.cv_results_['mean_test_score'])\n",
    "plt.grid(True)\n",
    "\n",
    "print('Наилучшая точность для метода К-ближайших соседей',best_accur_knc)\n",
    "print('Лучший параметр количества признаков для модели К-ближайших соседей',best_param_knc)\n",
    "print('Время обучения лучшей модели', best_fit_time_knc,'с')\n",
    "print('Время предсказания лучшей модели', best_predict_time_knc, 'c')"
   ]
  },
  {
   "cell_type": "markdown",
   "id": "746b5a9d",
   "metadata": {},
   "source": [
    "Создадим пайплайн для метода Логистическая регрессия и используем GridSearch для определения лучшей модели"
   ]
  },
  {
   "cell_type": "code",
   "execution_count": 57,
   "id": "81f128d1",
   "metadata": {},
   "outputs": [
    {
     "name": "stdout",
     "output_type": "stream",
     "text": [
      "Наилучшая точность для метода Логистическая регрессия 0.9459481142835637\n",
      "Лучший параметр количества признаков для модели Логистическая регрессия 10000\n",
      "Время обучения лучшей модели 0.1190720796585083 с\n",
      "Время предсказания лучшей модели 0.022659799999985353 c\n"
     ]
    },
    {
     "data": {
      "image/png": "[encoded data removed]",
      "text/plain": [
       "<Figure size 500x300 with 1 Axes>"
      ]
     },
     "metadata": {},
     "output_type": "display_data"
    }
   ],
   "source": [
    "pipeline_model_logr = Pipeline([(\"transformer_hv\", hv_transformer), (\"model\", logr_model_task4)])\n",
    "\n",
    "logr_model_grid = GridSearchCV(pipeline_model_logr, hv_params, cv=kf, scoring='balanced_accuracy')\n",
    "logr_model_grid.fit(x_train, y_train);\n",
    "\n",
    "best_accur_logr = max(logr_model_grid.cv_results_['mean_test_score'])\n",
    "best_param_logr = hv_params['transformer_hv__n_features'][np.argmax(logr_model_grid.cv_results_['mean_test_score'])]\n",
    "best_fit_time_logr = logr_model_grid.cv_results_['mean_fit_time'][np.argmax(logr_model_grid.cv_results_['mean_test_score'])]\n",
    "start_fit = time.perf_counter()\n",
    "y_pred = logr_model_grid.best_estimator_.predict(x_test)\n",
    "end_fit = time.perf_counter()\n",
    "best_predict_time_logr = end_fit - start_fit\n",
    "recall_logr = recall_score(y_test, y_pred, pos_label = 'spam')\n",
    "precision_logr = precision_score(y_test, y_pred, pos_label = 'spam')\n",
    "f1_logr = f1_score(y_test, y_pred, pos_label = 'spam')\n",
    "\n",
    "plt.figure(figsize=[5, 3])\n",
    "plt.title(\"Логистическая регрессия\")\n",
    "plt.xlabel(\"Количество признаков\")\n",
    "plt.ylabel(\"Score\")\n",
    "plt.plot(hv_params['transformer_hv__n_features'],logr_model_grid.cv_results_['mean_test_score'])\n",
    "plt.grid(True)\n",
    "\n",
    "print('Наилучшая точность для метода Логистическая регрессия',best_accur_logr)\n",
    "print('Лучший параметр количества признаков для модели Логистическая регрессия',best_param_logr)\n",
    "print('Время обучения лучшей модели', best_fit_time_logr,'с')\n",
    "print('Время предсказания лучшей модели', best_predict_time_logr, 'c')"
   ]
  },
  {
   "cell_type": "markdown",
   "id": "2ff6214f",
   "metadata": {},
   "source": [
    "Создадим пайплайн для метода Наивный Байес: модель Бернулли и используем GridSearch для определения лучшей модели"
   ]
  },
  {
   "cell_type": "code",
   "execution_count": 58,
   "id": "462679d4",
   "metadata": {},
   "outputs": [
    {
     "name": "stdout",
     "output_type": "stream",
     "text": [
      "Наилучшая точность для метода Наивный Байес: модель Бернулли 0.9531339339954086\n",
      "Лучший параметр количества признаков для модели Наивный Байес: модель Бернулли 10000\n",
      "Время обучения лучшей модели 0.040734052658081055 с\n",
      "Время предсказания лучшей модели 0.017401400000011336 c\n"
     ]
    },
    {
     "data": {
      "image/png": "[encoded data removed]",
      "text/plain": [
       "<Figure size 500x300 with 1 Axes>"
      ]
     },
     "metadata": {},
     "output_type": "display_data"
    }
   ],
   "source": [
    "pipeline_model_bnb = Pipeline([(\"transformer_hv\", hv_transformer), (\"model\", bnb_model_task4)])\n",
    "\n",
    "bnb_model_grid = GridSearchCV(pipeline_model_bnb, hv_params, cv=kf, scoring='balanced_accuracy')\n",
    "bnb_model_grid.fit(x_train, y_train);\n",
    "\n",
    "best_accur_bnb = max(bnb_model_grid.cv_results_['mean_test_score'])\n",
    "best_param_bnb = hv_params['transformer_hv__n_features'][np.argmax(bnb_model_grid.cv_results_['mean_test_score'])]\n",
    "best_fit_time_bnb = bnb_model_grid.cv_results_['mean_fit_time'][np.argmax(bnb_model_grid.cv_results_['mean_test_score'])]\n",
    "start_fit = time.perf_counter()\n",
    "y_pred = bnb_model_grid.best_estimator_.predict(x_test)\n",
    "end_fit = time.perf_counter()\n",
    "best_predict_time_bnb = end_fit - start_fit\n",
    "recall_bnb = recall_score(y_test, y_pred, pos_label = 'spam')\n",
    "precision_bnb = precision_score(y_test, y_pred, pos_label = 'spam')\n",
    "f1_bnb = f1_score(y_test, y_pred, pos_label = 'spam')\n",
    "\n",
    "plt.figure(figsize=[5, 3])\n",
    "plt.title(\"Наивный Байес: модель Бернулли\")\n",
    "plt.xlabel(\"Количество признаков\")\n",
    "plt.ylabel(\"Score\")\n",
    "plt.plot(hv_params['transformer_hv__n_features'],bnb_model_grid.cv_results_['mean_test_score'])\n",
    "plt.grid(True)\n",
    "\n",
    "print('Наилучшая точность для метода Наивный Байес: модель Бернулли',best_accur_bnb)\n",
    "print('Лучший параметр количества признаков для модели Наивный Байес: модель Бернулли',best_param_bnb)\n",
    "print('Время обучения лучшей модели', best_fit_time_bnb,'с')\n",
    "print('Время предсказания лучшей модели', best_predict_time_bnb, 'c')"
   ]
  },
  {
   "cell_type": "markdown",
   "id": "2c461011",
   "metadata": {},
   "source": [
    "Создадим пайплайн для метода Наивный Байес: полиномиальная модель и используем GridSearch для определения лучшей модели"
   ]
  },
  {
   "cell_type": "code",
   "execution_count": 59,
   "id": "0c9498fa",
   "metadata": {},
   "outputs": [
    {
     "name": "stdout",
     "output_type": "stream",
     "text": [
      "Наилучшая точность для метода Наивный Байес: полиномиальная модель 0.9611502022373917\n",
      "Лучший параметр количества признаков для модели Наивный Байес: полиномиальная модель 100000\n",
      "Время обучения лучшей модели 0.04613584280014038 с\n",
      "Время предсказания лучшей модели 0.018845700000014176 c\n"
     ]
    },
    {
     "data": {
      "image/png": "[encoded data removed]",
      "text/plain": [
       "<Figure size 500x300 with 1 Axes>"
      ]
     },
     "metadata": {},
     "output_type": "display_data"
    }
   ],
   "source": [
    "pipeline_model_mnb = Pipeline([(\"transformer_hv\", hv_transformer), (\"model\", mnb_model_task4)])\n",
    "\n",
    "mnb_model_grid = GridSearchCV(pipeline_model_mnb, hv_params, cv=kf, scoring='balanced_accuracy')\n",
    "mnb_model_grid.fit(x_train, y_train);\n",
    "\n",
    "best_accur_mnb = max(mnb_model_grid.cv_results_['mean_test_score'])\n",
    "best_param_mnb = hv_params['transformer_hv__n_features'][np.argmax(mnb_model_grid.cv_results_['mean_test_score'])]\n",
    "best_fit_time_mnb = mnb_model_grid.cv_results_['mean_fit_time'][np.argmax(mnb_model_grid.cv_results_['mean_test_score'])]\n",
    "start_fit = time.perf_counter()\n",
    "y_pred = mnb_model_grid.best_estimator_.predict(x_test)\n",
    "end_fit = time.perf_counter()\n",
    "best_predict_time_mnb = end_fit - start_fit\n",
    "recall_mnb = recall_score(y_test, y_pred, pos_label = 'spam')\n",
    "precision_mnb = precision_score(y_test, y_pred, pos_label = 'spam')\n",
    "f1_mnb = f1_score(y_test, y_pred, pos_label = 'spam')\n",
    "\n",
    "plt.figure(figsize=[5, 3])\n",
    "plt.title(\"Наивный Байес: полиномиальная модель\")\n",
    "plt.xlabel(\"Количество признаков\")\n",
    "plt.ylabel(\"Score\")\n",
    "plt.plot(hv_params['transformer_hv__n_features'],mnb_model_grid.cv_results_['mean_test_score'])\n",
    "plt.grid(True)\n",
    "\n",
    "print('Наилучшая точность для метода Наивный Байес: полиномиальная модель',best_accur_mnb)\n",
    "print('Лучший параметр количества признаков для модели Наивный Байес: полиномиальная модель',best_param_mnb)\n",
    "print('Время обучения лучшей модели', best_fit_time_mnb,'с')\n",
    "print('Время предсказания лучшей модели', best_predict_time_mnb, 'c')"
   ]
  },
  {
   "cell_type": "markdown",
   "id": "e5e06c68",
   "metadata": {},
   "source": [
    "Создам таблицу сравнения для n-gram = 1 для TF-IDF преобразования и для HashingVectorizer"
   ]
  },
  {
   "cell_type": "code",
   "execution_count": 60,
   "id": "df768c38",
   "metadata": {},
   "outputs": [],
   "source": [
    "table_data_task4 = {\n",
    "              'Время обучения, с': [best_fit_time_ngram1_knc, best_fit_time_ngram1_logr, best_fit_time_ngram1_bnb, best_fit_time_ngram1_mnb,\n",
    "                                    best_fit_time_knc, best_fit_time_logr, best_fit_time_bnb, best_fit_time_mnb],\n",
    "              'Время предсказания, c': [best_predict_time_ngram1_knc, best_predict_time_ngram1_logr, best_predict_time_ngram1_bnb, best_predict_time_ngram1_mnb,\n",
    "                                        best_predict_time_knc, best_predict_time_logr, best_predict_time_bnb, best_predict_time_mnb],\n",
    "              'Balanced accuracy score': [best_accur_ngram1_knc, best_accur_ngram1_logr, best_accur_ngram1_bnb, best_accur_ngram1_mnb,\n",
    "                                          best_accur_knc, best_accur_logr, best_accur_bnb, best_accur_mnb], \n",
    "              'Recall score': [recall_ngram1_knc, recall_ngram1_logr, recall_ngram1_bnb, recall_ngram1_mnb,\n",
    "                               recall_knc, recall_logr, recall_bnb, recall_mnb],\n",
    "              'Precision score': [precision_ngram1_knc, precision_ngram1_logr, precision_ngram1_bnb, precision_ngram1_mnb,\n",
    "                                  precision_knc, precision_logr, precision_bnb, precision_mnb],\n",
    "              'F1 score': [f1_ngram1_knc, f1_ngram1_logr, f1_ngram1_bnb, f1_ngram1_mnb,\n",
    "                           f1_knc, f1_logr, f1_bnb, f1_mnb]}\n",
    "indexes = ['К-ближайших соседей(KNeighbors) TF-IDF', 'Логистическая регрессия TF-IDF', 'Наивный Байес: модель Бернулли TF-IDF', \n",
    "           'Наивный Байес: полиномиальная модель TF-IDF', 'К-ближайших соседей(KNeighbors) HV', 'Логистическая регрессия HV', \n",
    "           'Наивный Байес: модель Бернулли HV', 'Наивный Байес: полиномиальная модель HV']\n",
    "df_table_task4 = pd.DataFrame(data=table_data_task4, index = indexes)"
   ]
  },
  {
   "cell_type": "code",
   "execution_count": 61,
   "id": "4ae79a1c",
   "metadata": {},
   "outputs": [
    {
     "data": {
      "text/html": [
       "<div>\n",
       "<style scoped>\n",
       "    .dataframe tbody tr th:only-of-type {\n",
       "        vertical-align: middle;\n",
       "    }\n",
       "\n",
       "    .dataframe tbody tr th {\n",
       "        vertical-align: top;\n",
       "    }\n",
       "\n",
       "    .dataframe thead th {\n",
       "        text-align: right;\n",
       "    }\n",
       "</style>\n",
       "<table border=\"1\" class=\"dataframe\">\n",
       "  <thead>\n",
       "    <tr style=\"text-align: right;\">\n",
       "      <th></th>\n",
       "      <th>Время обучения, с</th>\n",
       "      <th>Время предсказания, c</th>\n",
       "      <th>Balanced accuracy score</th>\n",
       "      <th>Recall score</th>\n",
       "      <th>Precision score</th>\n",
       "      <th>F1 score</th>\n",
       "    </tr>\n",
       "  </thead>\n",
       "  <tbody>\n",
       "    <tr>\n",
       "      <th>К-ближайших соседей(KNeighbors) TF-IDF</th>\n",
       "      <td>0.109675</td>\n",
       "      <td>0.431324</td>\n",
       "      <td>0.851780</td>\n",
       "      <td>0.652406</td>\n",
       "      <td>0.983871</td>\n",
       "      <td>0.784566</td>\n",
       "    </tr>\n",
       "    <tr>\n",
       "      <th>Логистическая регрессия TF-IDF</th>\n",
       "      <td>0.197760</td>\n",
       "      <td>0.036481</td>\n",
       "      <td>0.955390</td>\n",
       "      <td>0.925134</td>\n",
       "      <td>0.961111</td>\n",
       "      <td>0.942779</td>\n",
       "    </tr>\n",
       "    <tr>\n",
       "      <th>Наивный Байес: модель Бернулли TF-IDF</th>\n",
       "      <td>0.110737</td>\n",
       "      <td>0.043831</td>\n",
       "      <td>0.959861</td>\n",
       "      <td>0.898396</td>\n",
       "      <td>1.000000</td>\n",
       "      <td>0.946479</td>\n",
       "    </tr>\n",
       "    <tr>\n",
       "      <th>Наивный Байес: полиномиальная модель TF-IDF</th>\n",
       "      <td>0.121260</td>\n",
       "      <td>0.040292</td>\n",
       "      <td>0.951289</td>\n",
       "      <td>0.898396</td>\n",
       "      <td>0.988235</td>\n",
       "      <td>0.941176</td>\n",
       "    </tr>\n",
       "    <tr>\n",
       "      <th>К-ближайших соседей(KNeighbors) HV</th>\n",
       "      <td>0.053740</td>\n",
       "      <td>0.408863</td>\n",
       "      <td>0.683030</td>\n",
       "      <td>0.422460</td>\n",
       "      <td>0.622047</td>\n",
       "      <td>0.503185</td>\n",
       "    </tr>\n",
       "    <tr>\n",
       "      <th>Логистическая регрессия HV</th>\n",
       "      <td>0.119072</td>\n",
       "      <td>0.022660</td>\n",
       "      <td>0.945948</td>\n",
       "      <td>0.909091</td>\n",
       "      <td>0.971429</td>\n",
       "      <td>0.939227</td>\n",
       "    </tr>\n",
       "    <tr>\n",
       "      <th>Наивный Байес: модель Бернулли HV</th>\n",
       "      <td>0.040734</td>\n",
       "      <td>0.017401</td>\n",
       "      <td>0.953134</td>\n",
       "      <td>0.925134</td>\n",
       "      <td>0.977401</td>\n",
       "      <td>0.950549</td>\n",
       "    </tr>\n",
       "    <tr>\n",
       "      <th>Наивный Байес: полиномиальная модель HV</th>\n",
       "      <td>0.046136</td>\n",
       "      <td>0.018846</td>\n",
       "      <td>0.961150</td>\n",
       "      <td>0.941176</td>\n",
       "      <td>0.956522</td>\n",
       "      <td>0.948787</td>\n",
       "    </tr>\n",
       "  </tbody>\n",
       "</table>\n",
       "</div>"
      ],
      "text/plain": [
       "                                             Время обучения, с  \\\n",
       "К-ближайших соседей(KNeighbors) TF-IDF                0.109675   \n",
       "Логистическая регрессия TF-IDF                        0.197760   \n",
       "Наивный Байес: модель Бернулли TF-IDF                 0.110737   \n",
       "Наивный Байес: полиномиальная модель TF-IDF           0.121260   \n",
       "К-ближайших соседей(KNeighbors) HV                    0.053740   \n",
       "Логистическая регрессия HV                            0.119072   \n",
       "Наивный Байес: модель Бернулли HV                     0.040734   \n",
       "Наивный Байес: полиномиальная модель HV               0.046136   \n",
       "\n",
       "                                             Время предсказания, c  \\\n",
       "К-ближайших соседей(KNeighbors) TF-IDF                    0.431324   \n",
       "Логистическая регрессия TF-IDF                            0.036481   \n",
       "Наивный Байес: модель Бернулли TF-IDF                     0.043831   \n",
       "Наивный Байес: полиномиальная модель TF-IDF               0.040292   \n",
       "К-ближайших соседей(KNeighbors) HV                        0.408863   \n",
       "Логистическая регрессия HV                                0.022660   \n",
       "Наивный Байес: модель Бернулли HV                         0.017401   \n",
       "Наивный Байес: полиномиальная модель HV                   0.018846   \n",
       "\n",
       "                                             Balanced accuracy score  \\\n",
       "К-ближайших соседей(KNeighbors) TF-IDF                      0.851780   \n",
       "Логистическая регрессия TF-IDF                              0.955390   \n",
       "Наивный Байес: модель Бернулли TF-IDF                       0.959861   \n",
       "Наивный Байес: полиномиальная модель TF-IDF                 0.951289   \n",
       "К-ближайших соседей(KNeighbors) HV                          0.683030   \n",
       "Логистическая регрессия HV                                  0.945948   \n",
       "Наивный Байес: модель Бернулли HV                           0.953134   \n",
       "Наивный Байес: полиномиальная модель HV                     0.961150   \n",
       "\n",
       "                                             Recall score  Precision score  \\\n",
       "К-ближайших соседей(KNeighbors) TF-IDF           0.652406         0.983871   \n",
       "Логистическая регрессия TF-IDF                   0.925134         0.961111   \n",
       "Наивный Байес: модель Бернулли TF-IDF            0.898396         1.000000   \n",
       "Наивный Байес: полиномиальная модель TF-IDF      0.898396         0.988235   \n",
       "К-ближайших соседей(KNeighbors) HV               0.422460         0.622047   \n",
       "Логистическая регрессия HV                       0.909091         0.971429   \n",
       "Наивный Байес: модель Бернулли HV                0.925134         0.977401   \n",
       "Наивный Байес: полиномиальная модель HV          0.941176         0.956522   \n",
       "\n",
       "                                             F1 score  \n",
       "К-ближайших соседей(KNeighbors) TF-IDF       0.784566  \n",
       "Логистическая регрессия TF-IDF               0.942779  \n",
       "Наивный Байес: модель Бернулли TF-IDF        0.946479  \n",
       "Наивный Байес: полиномиальная модель TF-IDF  0.941176  \n",
       "К-ближайших соседей(KNeighbors) HV           0.503185  \n",
       "Логистическая регрессия HV                   0.939227  \n",
       "Наивный Байес: модель Бернулли HV            0.950549  \n",
       "Наивный Байес: полиномиальная модель HV      0.948787  "
      ]
     },
     "metadata": {},
     "output_type": "display_data"
    }
   ],
   "source": [
    "display(df_table_task4)"
   ]
  },
  {
   "cell_type": "markdown",
   "id": "9ea8220a",
   "metadata": {},
   "source": [
    "Из таблицы видно, что  обучение и предсказание после использования HashingVectorizer происходит чуть дольше, при этом модель К-ближайших соседей показывает ощутимо себя хуже при использовании HashingVectorizer, метрики модели логистической регрессии падают в среднем на 2-3%, а модели бернули и полиноминальная - показывают результаты лучше, но также не с большим изменением в 1-2 %"
   ]
  }
 ],
 "metadata": {
  "kernelspec": {
   "display_name": "Python 3 (ipykernel)",
   "language": "python",
   "name": "python3"
  },
  "language_info": {
   "codemirror_mode": {
    "name": "ipython",
    "version": 3
   },
   "file_extension": ".py",
   "mimetype": "text/x-python",
   "name": "python",
   "nbconvert_exporter": "python",
   "pygments_lexer": "ipython3",
   "version": "3.9.13"
  }
 },
 "nbformat": 4,
 "nbformat_minor": 5
}
